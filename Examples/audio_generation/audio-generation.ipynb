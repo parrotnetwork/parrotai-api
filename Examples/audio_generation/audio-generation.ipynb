{
 "cells": [
  {
   "cell_type": "code",
   "execution_count": null,
   "metadata": {},
   "outputs": [],
   "source": [
    "# Update new package. Lastest version is 0.1.16\n",
    "!pip install parrotai -U"
   ]
  },
  {
   "cell_type": "code",
   "execution_count": 18,
   "metadata": {},
   "outputs": [],
   "source": [
    "from parrotai import ParrotAPI\n",
    "import time"
   ]
  },
  {
   "cell_type": "code",
   "execution_count": 19,
   "metadata": {},
   "outputs": [],
   "source": [
    "# Create a new instance of the ParrotAPI\n",
    "parrotai = ParrotAPI()"
   ]
  },
  {
   "cell_type": "markdown",
   "metadata": {},
   "source": [
    "# Login"
   ]
  },
  {
   "cell_type": "code",
   "execution_count": 20,
   "metadata": {},
   "outputs": [],
   "source": [
    "# please visit https://joinparrot.ai to register your account\n",
    "\n",
    "username = '<your-username>'\n",
    "password = '<your-password>'"
   ]
  },
  {
   "cell_type": "code",
   "execution_count": 21,
   "metadata": {},
   "outputs": [],
   "source": [
    "# login to the API. The credentials are stored in the object. You to login first before you can access the other endpoints\n",
    "_ = parrotai.login(username=username, password=password)"
   ]
  },
  {
   "cell_type": "markdown",
   "metadata": {},
   "source": [
    "# List Model"
   ]
  },
  {
   "cell_type": "code",
   "execution_count": 76,
   "metadata": {},
   "outputs": [
    {
     "name": "stdout",
     "output_type": "stream",
     "text": [
      "{'data': [{'model': 'bark', 'metadata': {}}, {'model': 'audiogen', 'metadata': {}}, {'model': 'musicgen', 'metadata': {}}], 'errors': [], 'error_description': '', 'start_time': '2024-03-14 15:05:41.615268', 'end_time': '2024-03-14 15:05:41.620658', 'host_of_client_call_request': '103.186.100.36', 'total_time_by_second': 0.005394, 'status': 'success'}\n"
     ]
    }
   ],
   "source": [
    "# Get models\n",
    "models = parrotai.get_models(\"audio_generation\")\n",
    "print(models)"
   ]
  },
  {
   "cell_type": "markdown",
   "metadata": {},
   "source": [
    "# Parrot AI: Generate Audio"
   ]
  },
  {
   "cell_type": "markdown",
   "metadata": {},
   "source": [
    "### Example 1"
   ]
  },
  {
   "cell_type": "code",
   "execution_count": 77,
   "metadata": {},
   "outputs": [],
   "source": [
    "# Configs\n",
    "model = \"audiogen\"\n",
    "duration = 4\n",
    "top_k = 15\n",
    "top_p = 0.9 "
   ]
  },
  {
   "cell_type": "code",
   "execution_count": 78,
   "metadata": {},
   "outputs": [
    {
     "name": "stdout",
     "output_type": "stream",
     "text": [
      "{'data': {'task_id': '18f8732d0e914d7c830c31ccde674704', 'prompt': 'The sound of strong waves continuously crashing onto the shore', 'negative_prompt': '', 'config': {'model': 'audiogen', 'duration': 4, 'top_k': 15, 'top_p': 0.9, 'task_name': 'tasks.parrot_audiogen_task', 'task_type': 'TEXT-TO-AUDIO', 'queue_name': 'audiogen_queue'}}, 'errors': [], 'error_description': '', 'start_time': '2024-03-14 15:05:47.010813', 'end_time': '2024-03-14 15:05:47.034974', 'host_of_client_call_request': '103.186.100.36', 'total_time_by_second': 0.024172, 'status': 'success'}\n"
     ]
    },
    {
     "data": {
      "text/plain": [
       "'18f8732d0e914d7c830c31ccde674704'"
      ]
     },
     "execution_count": 78,
     "metadata": {},
     "output_type": "execute_result"
    }
   ],
   "source": [
    "# Create task\n",
    "resp = parrotai.create_txt2audio(\n",
    "    prompt=\"The sound of strong waves continuously crashing onto the shore\", \n",
    "    model=model,\n",
    "    duration=duration,\n",
    "    top_k=top_k,\n",
    "    top_p=top_p\n",
    ")\n",
    "print(resp)\n",
    "task_id = resp['data']['task_id']\n",
    "task_id"
   ]
  },
  {
   "cell_type": "code",
   "execution_count": 79,
   "metadata": {},
   "outputs": [
    {
     "name": "stdout",
     "output_type": "stream",
     "text": [
      "{'data': {'is_success': True, 'data': {'task_id': '18f8732d0e914d7c830c31ccde674704', 'total_tasks': 1, 'percent': 100, 'status': 'COMPLETED', 'url_download': 'https://media.joinparrot.ai/parrot-prod/generated_result/18f8732d0e914d7c830c31ccde674704.wav'}}, 'errors': [], 'error_description': '', 'start_time': '2024-03-14 15:06:03.495568', 'end_time': '2024-03-14 15:06:03.496111', 'host_of_client_call_request': '103.186.100.36', 'total_time_by_second': 0.000547, 'status': 'success'}\n"
     ]
    }
   ],
   "source": [
    "# Get result\n",
    "timeout = time.time() + 60 \n",
    "while True:\n",
    "    if time.time() > timeout:\n",
    "        break\n",
    "    time.sleep(1)\n",
    "    resp_result = parrotai.result_txt2audio(task_id)\n",
    "    if resp_result['data']['data']['status'] == 'COMPLETED':\n",
    "        break\n",
    "print(resp_result)"
   ]
  },
  {
   "cell_type": "markdown",
   "metadata": {},
   "source": [
    "### Example 2"
   ]
  },
  {
   "cell_type": "code",
   "execution_count": 84,
   "metadata": {},
   "outputs": [],
   "source": [
    "# Configs\n",
    "model = \"audiogen\"\n",
    "duration = 5\n",
    "top_k = 15\n",
    "top_p = 0.9 "
   ]
  },
  {
   "cell_type": "code",
   "execution_count": 85,
   "metadata": {},
   "outputs": [
    {
     "name": "stdout",
     "output_type": "stream",
     "text": [
      "{'data': {'task_id': '5086107f983f49a7ae669c641785ab2e', 'prompt': 'Strong wind', 'negative_prompt': '', 'config': {'model': 'audiogen', 'duration': 5, 'top_k': 15, 'top_p': 0.9, 'task_name': 'tasks.parrot_audiogen_task', 'task_type': 'TEXT-TO-AUDIO', 'queue_name': 'audiogen_queue'}}, 'errors': [], 'error_description': '', 'start_time': '2024-03-14 15:09:01.345596', 'end_time': '2024-03-14 15:09:01.367363', 'host_of_client_call_request': '103.186.100.36', 'total_time_by_second': 0.021778, 'status': 'success'}\n"
     ]
    },
    {
     "data": {
      "text/plain": [
       "'5086107f983f49a7ae669c641785ab2e'"
      ]
     },
     "execution_count": 85,
     "metadata": {},
     "output_type": "execute_result"
    }
   ],
   "source": [
    "# Create task\n",
    "resp = parrotai.create_txt2audio(\n",
    "    prompt=\"Strong wind\", \n",
    "    model=model,\n",
    "    duration=duration,\n",
    "    top_k=top_k,\n",
    "    top_p=top_p\n",
    ")\n",
    "print(resp)\n",
    "task_id = resp['data']['task_id']\n",
    "task_id"
   ]
  },
  {
   "cell_type": "code",
   "execution_count": 86,
   "metadata": {},
   "outputs": [
    {
     "name": "stdout",
     "output_type": "stream",
     "text": [
      "{'data': {'is_success': True, 'data': {'task_id': '5086107f983f49a7ae669c641785ab2e', 'total_tasks': 1, 'percent': 100, 'status': 'COMPLETED', 'url_download': 'https://media.joinparrot.ai/parrot-prod/generated_result/5086107f983f49a7ae669c641785ab2e.wav'}}, 'errors': [], 'error_description': '', 'start_time': '2024-03-14 15:09:43.321505', 'end_time': '2024-03-14 15:09:43.322111', 'host_of_client_call_request': '103.186.100.36', 'total_time_by_second': 0.000614, 'status': 'success'}\n"
     ]
    }
   ],
   "source": [
    "# Get result\n",
    "timeout = time.time() + 60 \n",
    "while True:\n",
    "    if time.time() > timeout:\n",
    "        break\n",
    "    time.sleep(1)\n",
    "    resp_result = parrotai.result_txt2audio(task_id)\n",
    "    if resp_result['data']['data']['status'] == 'COMPLETED':\n",
    "        break\n",
    "print(resp_result)"
   ]
  },
  {
   "cell_type": "markdown",
   "metadata": {},
   "source": [
    "### Example 3"
   ]
  },
  {
   "cell_type": "code",
   "execution_count": 64,
   "metadata": {},
   "outputs": [],
   "source": [
    "# Configs\n",
    "model = \"audiogen\"\n",
    "duration = 5\n",
    "top_k = 50\n",
    "top_p = 0.8 "
   ]
  },
  {
   "cell_type": "code",
   "execution_count": 65,
   "metadata": {},
   "outputs": [
    {
     "name": "stdout",
     "output_type": "stream",
     "text": [
      "{'data': {'task_id': '2e1a5d10eed44048bd685d6d28af61bc', 'prompt': 'barking dogs', 'negative_prompt': '', 'config': {'model': 'audiogen', 'duration': 5, 'top_k': 50, 'top_p': 0.8, 'task_name': 'tasks.parrot_audiogen_task', 'task_type': 'TEXT-TO-AUDIO', 'queue_name': 'audiogen_queue'}}, 'errors': [], 'error_description': '', 'start_time': '2024-03-14 14:47:52.542044', 'end_time': '2024-03-14 14:47:52.566317', 'host_of_client_call_request': '103.186.100.36', 'total_time_by_second': 0.024284, 'status': 'success'}\n"
     ]
    },
    {
     "data": {
      "text/plain": [
       "'2e1a5d10eed44048bd685d6d28af61bc'"
      ]
     },
     "execution_count": 65,
     "metadata": {},
     "output_type": "execute_result"
    }
   ],
   "source": [
    "# Create task\n",
    "resp = parrotai.create_txt2audio(\n",
    "    prompt=\"barking dogs\", \n",
    "    model=model,\n",
    "    duration=duration,\n",
    "    top_k=top_k,\n",
    "    top_p=top_p\n",
    ")\n",
    "print(resp)\n",
    "task_id = resp['data']['task_id']\n",
    "task_id"
   ]
  },
  {
   "cell_type": "code",
   "execution_count": 66,
   "metadata": {},
   "outputs": [
    {
     "name": "stdout",
     "output_type": "stream",
     "text": [
      "{'data': {'is_success': True, 'data': {'task_id': '2e1a5d10eed44048bd685d6d28af61bc', 'total_tasks': 1, 'percent': 100, 'status': 'COMPLETED', 'url_download': 'https://media.joinparrot.ai/parrot-prod/generated_result/2e1a5d10eed44048bd685d6d28af61bc.wav'}}, 'errors': [], 'error_description': '', 'start_time': '2024-03-14 14:48:11.233806', 'end_time': '2024-03-14 14:48:11.234377', 'host_of_client_call_request': '103.186.100.36', 'total_time_by_second': 0.000576, 'status': 'success'}\n"
     ]
    }
   ],
   "source": [
    "# Get result\n",
    "timeout = time.time() + 60 \n",
    "while True:\n",
    "    if time.time() > timeout:\n",
    "        break\n",
    "    time.sleep(1)\n",
    "    resp_result = parrotai.result_txt2audio(task_id)\n",
    "    if resp_result['data']['data']['status'] == 'COMPLETED':\n",
    "        break\n",
    "print(resp_result)"
   ]
  },
  {
   "cell_type": "markdown",
   "metadata": {},
   "source": [
    "### Example 4"
   ]
  },
  {
   "cell_type": "code",
   "execution_count": 116,
   "metadata": {},
   "outputs": [],
   "source": [
    "# Configs\n",
    "model = \"audiogen\"\n",
    "duration = 3\n",
    "top_k = 15\n",
    "top_p = 0.9"
   ]
  },
  {
   "cell_type": "code",
   "execution_count": 117,
   "metadata": {},
   "outputs": [
    {
     "name": "stdout",
     "output_type": "stream",
     "text": [
      "{'data': {'task_id': '826833b5350d40d295d6164717c55415', 'prompt': 'rain', 'negative_prompt': '', 'config': {'model': 'audiogen', 'duration': 3, 'top_k': 15, 'top_p': 0.9, 'task_name': 'tasks.parrot_audiogen_task', 'task_type': 'TEXT-TO-AUDIO', 'queue_name': 'audiogen_queue'}}, 'errors': [], 'error_description': '', 'start_time': '2024-03-14 15:23:11.727632', 'end_time': '2024-03-14 15:23:11.752196', 'host_of_client_call_request': '103.186.100.36', 'total_time_by_second': 0.024575, 'status': 'success'}\n"
     ]
    },
    {
     "data": {
      "text/plain": [
       "'826833b5350d40d295d6164717c55415'"
      ]
     },
     "execution_count": 117,
     "metadata": {},
     "output_type": "execute_result"
    }
   ],
   "source": [
    "# Create task\n",
    "resp = parrotai.create_txt2audio(\n",
    "    prompt=\"rain\", \n",
    "    model=model,\n",
    "    duration=duration,\n",
    "    top_k=top_k,\n",
    "    top_p=top_p\n",
    ")\n",
    "print(resp)\n",
    "task_id = resp['data']['task_id']\n",
    "task_id"
   ]
  },
  {
   "cell_type": "code",
   "execution_count": 118,
   "metadata": {},
   "outputs": [
    {
     "name": "stdout",
     "output_type": "stream",
     "text": [
      "{'data': {'is_success': True, 'data': {'task_id': '826833b5350d40d295d6164717c55415', 'total_tasks': 1, 'percent': 100, 'status': 'COMPLETED', 'url_download': 'https://media.joinparrot.ai/parrot-prod/generated_result/826833b5350d40d295d6164717c55415.wav'}}, 'errors': [], 'error_description': '', 'start_time': '2024-03-14 15:23:23.237077', 'end_time': '2024-03-14 15:23:23.237695', 'host_of_client_call_request': '103.186.100.36', 'total_time_by_second': 0.000626, 'status': 'success'}\n"
     ]
    }
   ],
   "source": [
    "# Get result\n",
    "timeout = time.time() + 60 \n",
    "while True:\n",
    "    if time.time() > timeout:\n",
    "        break\n",
    "    time.sleep(1)\n",
    "    resp_result = parrotai.result_txt2audio(task_id)\n",
    "    if resp_result['data']['data']['status'] == 'COMPLETED':\n",
    "        break\n",
    "print(resp_result)"
   ]
  },
  {
   "cell_type": "markdown",
   "metadata": {},
   "source": [
    "### Example 5"
   ]
  },
  {
   "cell_type": "code",
   "execution_count": 70,
   "metadata": {},
   "outputs": [],
   "source": [
    "# Configs\n",
    "model = \"audiogen\"\n",
    "duration = 5\n",
    "top_k = 15\n",
    "top_p = 0.9 "
   ]
  },
  {
   "cell_type": "code",
   "execution_count": 71,
   "metadata": {},
   "outputs": [
    {
     "name": "stdout",
     "output_type": "stream",
     "text": [
      "{'data': {'task_id': '93006b9f6bb6479b8bfa495133a8bc29', 'prompt': 'motorcycle engine sound', 'negative_prompt': '', 'config': {'model': 'audiogen', 'duration': 5, 'top_k': 15, 'top_p': 0.9, 'task_name': 'tasks.parrot_audiogen_task', 'task_type': 'TEXT-TO-AUDIO', 'queue_name': 'audiogen_queue'}}, 'errors': [], 'error_description': '', 'start_time': '2024-03-14 14:51:50.738791', 'end_time': '2024-03-14 14:51:50.777162', 'host_of_client_call_request': '103.186.100.36', 'total_time_by_second': 0.038381, 'status': 'success'}\n"
     ]
    },
    {
     "data": {
      "text/plain": [
       "'93006b9f6bb6479b8bfa495133a8bc29'"
      ]
     },
     "execution_count": 71,
     "metadata": {},
     "output_type": "execute_result"
    }
   ],
   "source": [
    "# Create task\n",
    "resp = parrotai.create_txt2audio(\n",
    "    prompt=\"motorcycle engine sound\", \n",
    "    model=model,\n",
    "    duration=duration,\n",
    "    top_k=top_k,\n",
    "    top_p=top_p\n",
    ")\n",
    "print(resp)\n",
    "task_id = resp['data']['task_id']\n",
    "task_id"
   ]
  },
  {
   "cell_type": "code",
   "execution_count": 72,
   "metadata": {},
   "outputs": [
    {
     "name": "stdout",
     "output_type": "stream",
     "text": [
      "{'data': {'is_success': True, 'data': {'task_id': '93006b9f6bb6479b8bfa495133a8bc29', 'total_tasks': 1, 'percent': 100, 'status': 'COMPLETED', 'url_download': 'https://media.joinparrot.ai/parrot-prod/generated_result/93006b9f6bb6479b8bfa495133a8bc29.wav'}}, 'errors': [], 'error_description': '', 'start_time': '2024-03-14 14:52:08.832997', 'end_time': '2024-03-14 14:52:08.833672', 'host_of_client_call_request': '103.186.100.36', 'total_time_by_second': 0.000683, 'status': 'success'}\n"
     ]
    }
   ],
   "source": [
    "# Get result\n",
    "timeout = time.time() + 60 \n",
    "while True:\n",
    "    if time.time() > timeout:\n",
    "        break\n",
    "    time.sleep(1)\n",
    "    resp_result = parrotai.result_txt2audio(task_id)\n",
    "    if resp_result['data']['data']['status'] == 'COMPLETED':\n",
    "        break\n",
    "print(resp_result)"
   ]
  }
 ],
 "metadata": {
  "kernelspec": {
   "display_name": "Python 3",
   "language": "python",
   "name": "python3"
  },
  "language_info": {
   "codemirror_mode": {
    "name": "ipython",
    "version": 3
   },
   "file_extension": ".py",
   "mimetype": "text/x-python",
   "name": "python",
   "nbconvert_exporter": "python",
   "pygments_lexer": "ipython3",
   "version": "3.10.7"
  }
 },
 "nbformat": 4,
 "nbformat_minor": 2
}
