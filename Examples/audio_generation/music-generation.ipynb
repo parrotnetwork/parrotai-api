{
 "cells": [
  {
   "cell_type": "code",
   "execution_count": null,
   "metadata": {},
   "outputs": [],
   "source": [
    "# Update new package. Lastest version is 0.1.16\n",
    "!pip install parrotai -U"
   ]
  },
  {
   "cell_type": "code",
   "execution_count": 2,
   "metadata": {},
   "outputs": [],
   "source": [
    "from parrotai import ParrotAPI\n",
    "import time"
   ]
  },
  {
   "cell_type": "code",
   "execution_count": 3,
   "metadata": {},
   "outputs": [],
   "source": [
    "# Create a new instance of the ParrotAPI\n",
    "parrotai = ParrotAPI()"
   ]
  },
  {
   "cell_type": "markdown",
   "metadata": {},
   "source": [
    "# Login"
   ]
  },
  {
   "cell_type": "code",
   "execution_count": 4,
   "metadata": {},
   "outputs": [],
   "source": [
    "# please visit https://joinparrot.ai to register your account\n",
    "\n",
    "username = '<your-username>'\n",
    "password = '<your-password>'"
   ]
  },
  {
   "cell_type": "code",
   "execution_count": 5,
   "metadata": {},
   "outputs": [],
   "source": [
    "# login to the API. The credentials are stored in the object. You to login first before you can access the other endpoints\n",
    "_ = parrotai.login(username=username, password=password)"
   ]
  },
  {
   "cell_type": "markdown",
   "metadata": {},
   "source": [
    "# List Model"
   ]
  },
  {
   "cell_type": "code",
   "execution_count": 6,
   "metadata": {},
   "outputs": [
    {
     "name": "stdout",
     "output_type": "stream",
     "text": [
      "{'data': [{'model': 'bark', 'metadata': {}}, {'model': 'audiogen', 'metadata': {}}, {'model': 'musicgen', 'metadata': {}}], 'errors': [], 'error_description': '', 'start_time': '2024-03-14 14:53:11.552257', 'end_time': '2024-03-14 14:53:11.556300', 'host_of_client_call_request': '103.186.100.36', 'total_time_by_second': 0.004053, 'status': 'success'}\n"
     ]
    }
   ],
   "source": [
    "# Get models\n",
    "models = parrotai.get_models(\"audio_generation\")\n",
    "print(models)"
   ]
  },
  {
   "cell_type": "markdown",
   "metadata": {},
   "source": [
    "# Parrot AI: Generate Audio"
   ]
  },
  {
   "cell_type": "markdown",
   "metadata": {},
   "source": [
    "### Example 1"
   ]
  },
  {
   "cell_type": "code",
   "execution_count": 7,
   "metadata": {},
   "outputs": [],
   "source": [
    "# Configs\n",
    "model = \"musicgen\"\n",
    "duration = 5\n",
    "top_k = 15\n",
    "top_p = 0.9 "
   ]
  },
  {
   "cell_type": "code",
   "execution_count": 8,
   "metadata": {},
   "outputs": [
    {
     "name": "stdout",
     "output_type": "stream",
     "text": [
      "{'data': {'task_id': 'b20aec8f488f474aa711a6d5d7df31d8', 'prompt': 'music rock', 'negative_prompt': '', 'config': {'model': 'musicgen', 'duration': 5, 'top_k': 15, 'top_p': 0.9, 'task_name': 'tasks.parrot_musicgen_task', 'task_type': 'TEXT-TO-AUDIO', 'queue_name': 'musicgen_queue'}}, 'errors': [], 'error_description': '', 'start_time': '2024-03-14 14:53:31.869796', 'end_time': '2024-03-14 14:53:31.897786', 'host_of_client_call_request': '103.186.100.36', 'total_time_by_second': 0.027995, 'status': 'success'}\n"
     ]
    },
    {
     "data": {
      "text/plain": [
       "'b20aec8f488f474aa711a6d5d7df31d8'"
      ]
     },
     "execution_count": 8,
     "metadata": {},
     "output_type": "execute_result"
    }
   ],
   "source": [
    "# Create task\n",
    "resp = parrotai.create_txt2audio(\n",
    "    prompt=\"music rock\", \n",
    "    model=model,\n",
    "    duration=duration,\n",
    "    top_k=top_k,\n",
    "    top_p=top_p\n",
    ")\n",
    "print(resp)\n",
    "task_id = resp['data']['task_id']\n",
    "task_id"
   ]
  },
  {
   "cell_type": "code",
   "execution_count": 9,
   "metadata": {},
   "outputs": [
    {
     "name": "stdout",
     "output_type": "stream",
     "text": [
      "{'data': {'is_success': True, 'data': {'task_id': 'b20aec8f488f474aa711a6d5d7df31d8', 'total_tasks': 1, 'percent': 100, 'status': 'COMPLETED', 'url_download': 'https://media.joinparrot.ai/parrot-prod/generated_result/b20aec8f488f474aa711a6d5d7df31d8.wav'}}, 'errors': [], 'error_description': '', 'start_time': '2024-03-14 14:53:44.674884', 'end_time': '2024-03-14 14:53:44.675574', 'host_of_client_call_request': '103.186.100.36', 'total_time_by_second': 0.000698, 'status': 'success'}\n"
     ]
    }
   ],
   "source": [
    "# Get result\n",
    "timeout = time.time() + 60 \n",
    "while True:\n",
    "    if time.time() > timeout:\n",
    "        break\n",
    "    time.sleep(1)\n",
    "    resp_result = parrotai.result_txt2audio(task_id)\n",
    "    if resp_result['data']['data']['status'] == 'COMPLETED':\n",
    "        break\n",
    "print(resp_result)"
   ]
  },
  {
   "cell_type": "markdown",
   "metadata": {},
   "source": [
    "### Example 2"
   ]
  },
  {
   "cell_type": "code",
   "execution_count": 19,
   "metadata": {},
   "outputs": [],
   "source": [
    "# Configs\n",
    "model = \"musicgen\"\n",
    "duration = 6\n",
    "top_k = 20\n",
    "top_p = 0.8 "
   ]
  },
  {
   "cell_type": "code",
   "execution_count": 20,
   "metadata": {},
   "outputs": [
    {
     "name": "stdout",
     "output_type": "stream",
     "text": [
      "{'data': {'task_id': 'd1ab56b51c7b4b7cb56cb538540a179e', 'prompt': 'EDM music', 'negative_prompt': '', 'config': {'model': 'musicgen', 'duration': 6, 'top_k': 20, 'top_p': 0.8, 'task_name': 'tasks.parrot_musicgen_task', 'task_type': 'TEXT-TO-AUDIO', 'queue_name': 'musicgen_queue'}}, 'errors': [], 'error_description': '', 'start_time': '2024-03-14 14:59:58.652982', 'end_time': '2024-03-14 14:59:58.677240', 'host_of_client_call_request': '103.186.100.36', 'total_time_by_second': 0.02427, 'status': 'success'}\n"
     ]
    },
    {
     "data": {
      "text/plain": [
       "'d1ab56b51c7b4b7cb56cb538540a179e'"
      ]
     },
     "execution_count": 20,
     "metadata": {},
     "output_type": "execute_result"
    }
   ],
   "source": [
    "# Create task\n",
    "resp = parrotai.create_txt2audio(\n",
    "    prompt=\"EDM music\", \n",
    "    model=model,\n",
    "    duration=duration,\n",
    "    top_k=top_k,\n",
    "    top_p=top_p\n",
    ")\n",
    "print(resp)\n",
    "task_id = resp['data']['task_id']\n",
    "task_id"
   ]
  },
  {
   "cell_type": "code",
   "execution_count": 21,
   "metadata": {},
   "outputs": [
    {
     "name": "stdout",
     "output_type": "stream",
     "text": [
      "{'data': {'is_success': True, 'data': {'task_id': 'd1ab56b51c7b4b7cb56cb538540a179e', 'total_tasks': 1, 'percent': 100, 'status': 'COMPLETED', 'url_download': 'https://media.joinparrot.ai/parrot-prod/generated_result/d1ab56b51c7b4b7cb56cb538540a179e.wav'}}, 'errors': [], 'error_description': '', 'start_time': '2024-03-14 15:00:41.527875', 'end_time': '2024-03-14 15:00:41.528683', 'host_of_client_call_request': '103.186.100.36', 'total_time_by_second': 0.000813, 'status': 'success'}\n"
     ]
    }
   ],
   "source": [
    "# Get result\n",
    "timeout = time.time() + 60 \n",
    "while True:\n",
    "    if time.time() > timeout:\n",
    "        break\n",
    "    time.sleep(1)\n",
    "    resp_result = parrotai.result_txt2audio(task_id)\n",
    "    if resp_result['data']['data']['status'] == 'COMPLETED':\n",
    "        break\n",
    "print(resp_result)"
   ]
  },
  {
   "cell_type": "markdown",
   "metadata": {},
   "source": [
    "### Example 3"
   ]
  },
  {
   "cell_type": "code",
   "execution_count": 24,
   "metadata": {},
   "outputs": [],
   "source": [
    "# Configs\n",
    "model = \"musicgen\"\n",
    "duration = 5\n",
    "top_k = 50\n",
    "top_p = 0.8 "
   ]
  },
  {
   "cell_type": "code",
   "execution_count": 25,
   "metadata": {},
   "outputs": [
    {
     "name": "stdout",
     "output_type": "stream",
     "text": [
      "{'data': {'task_id': 'fc69cac7e9264118a69f0d233957ec36', 'prompt': 'Sad ballad music expresses the feelings of someone who is lovesick', 'negative_prompt': '', 'config': {'model': 'musicgen', 'duration': 5, 'top_k': 50, 'top_p': 0.8, 'task_name': 'tasks.parrot_musicgen_task', 'task_type': 'TEXT-TO-AUDIO', 'queue_name': 'musicgen_queue'}}, 'errors': [], 'error_description': '', 'start_time': '2024-03-14 15:02:31.962717', 'end_time': '2024-03-14 15:02:32.000263', 'host_of_client_call_request': '103.186.100.36', 'total_time_by_second': 0.037551, 'status': 'success'}\n"
     ]
    },
    {
     "data": {
      "text/plain": [
       "'fc69cac7e9264118a69f0d233957ec36'"
      ]
     },
     "execution_count": 25,
     "metadata": {},
     "output_type": "execute_result"
    }
   ],
   "source": [
    "# Create task\n",
    "resp = parrotai.create_txt2audio(\n",
    "    prompt=\"Sad ballad music expresses the feelings of someone who is lovesick\", \n",
    "    model=model,\n",
    "    duration=duration,\n",
    "    top_k=top_k,\n",
    "    top_p=top_p\n",
    ")\n",
    "print(resp)\n",
    "task_id = resp['data']['task_id']\n",
    "task_id"
   ]
  },
  {
   "cell_type": "code",
   "execution_count": 26,
   "metadata": {},
   "outputs": [
    {
     "name": "stdout",
     "output_type": "stream",
     "text": [
      "{'data': {'is_success': True, 'data': {'task_id': 'fc69cac7e9264118a69f0d233957ec36', 'total_tasks': 1, 'percent': 100, 'status': 'COMPLETED', 'url_download': 'https://media.joinparrot.ai/parrot-prod/generated_result/fc69cac7e9264118a69f0d233957ec36.wav'}}, 'errors': [], 'error_description': '', 'start_time': '2024-03-14 15:02:52.641392', 'end_time': '2024-03-14 15:02:52.641971', 'host_of_client_call_request': '103.186.100.36', 'total_time_by_second': 0.000588, 'status': 'success'}\n"
     ]
    }
   ],
   "source": [
    "# Get result\n",
    "timeout = time.time() + 60 \n",
    "while True:\n",
    "    if time.time() > timeout:\n",
    "        break\n",
    "    time.sleep(1)\n",
    "    resp_result = parrotai.result_txt2audio(task_id)\n",
    "    if resp_result['data']['data']['status'] == 'COMPLETED':\n",
    "        break\n",
    "print(resp_result)"
   ]
  },
  {
   "cell_type": "markdown",
   "metadata": {},
   "source": [
    "### Example 4"
   ]
  },
  {
   "cell_type": "code",
   "execution_count": 27,
   "metadata": {},
   "outputs": [],
   "source": [
    "# Configs\n",
    "model = \"musicgen\"\n",
    "duration = 6\n",
    "top_k = 100\n",
    "top_p = 0.5"
   ]
  },
  {
   "cell_type": "code",
   "execution_count": 28,
   "metadata": {},
   "outputs": [
    {
     "name": "stdout",
     "output_type": "stream",
     "text": [
      "{'data': {'task_id': '20d519be8c464852b3ba1e736d5b4c0c', 'prompt': 'Dance music', 'negative_prompt': '', 'config': {'model': 'musicgen', 'duration': 6, 'top_k': 100, 'top_p': 0.5, 'task_name': 'tasks.parrot_musicgen_task', 'task_type': 'TEXT-TO-AUDIO', 'queue_name': 'musicgen_queue'}}, 'errors': [], 'error_description': '', 'start_time': '2024-03-14 15:24:49.111349', 'end_time': '2024-03-14 15:24:49.136039', 'host_of_client_call_request': '103.186.100.36', 'total_time_by_second': 0.024698, 'status': 'success'}\n"
     ]
    },
    {
     "data": {
      "text/plain": [
       "'20d519be8c464852b3ba1e736d5b4c0c'"
      ]
     },
     "execution_count": 28,
     "metadata": {},
     "output_type": "execute_result"
    }
   ],
   "source": [
    "# Create task\n",
    "resp = parrotai.create_txt2audio(\n",
    "    prompt=\"Dance music\", \n",
    "    model=model,\n",
    "    duration=duration,\n",
    "    top_k=top_k,\n",
    "    top_p=top_p\n",
    ")\n",
    "print(resp)\n",
    "task_id = resp['data']['task_id']\n",
    "task_id"
   ]
  },
  {
   "cell_type": "code",
   "execution_count": 29,
   "metadata": {},
   "outputs": [
    {
     "name": "stdout",
     "output_type": "stream",
     "text": [
      "{'data': {'is_success': True, 'data': {'task_id': '20d519be8c464852b3ba1e736d5b4c0c', 'total_tasks': 1, 'percent': 100, 'status': 'COMPLETED', 'url_download': 'https://media.joinparrot.ai/parrot-prod/generated_result/20d519be8c464852b3ba1e736d5b4c0c.wav'}}, 'errors': [], 'error_description': '', 'start_time': '2024-03-14 15:25:07.065136', 'end_time': '2024-03-14 15:25:07.065842', 'host_of_client_call_request': '103.186.100.36', 'total_time_by_second': 0.000711, 'status': 'success'}\n"
     ]
    }
   ],
   "source": [
    "# Get result\n",
    "timeout = time.time() + 60 \n",
    "while True:\n",
    "    if time.time() > timeout:\n",
    "        break\n",
    "    time.sleep(1)\n",
    "    resp_result = parrotai.result_txt2audio(task_id)\n",
    "    if resp_result['data']['data']['status'] == 'COMPLETED':\n",
    "        break\n",
    "print(resp_result)"
   ]
  },
  {
   "cell_type": "markdown",
   "metadata": {},
   "source": [
    "### Example 5"
   ]
  },
  {
   "cell_type": "code",
   "execution_count": 30,
   "metadata": {},
   "outputs": [],
   "source": [
    "# Configs\n",
    "model = \"musicgen\"\n",
    "duration = 5\n",
    "top_k = 100\n",
    "top_p = 0.5"
   ]
  },
  {
   "cell_type": "code",
   "execution_count": 31,
   "metadata": {},
   "outputs": [
    {
     "name": "stdout",
     "output_type": "stream",
     "text": [
      "{'data': {'task_id': 'bc293c5eff7846bbafb335318f566260', 'prompt': 'Happy pop music', 'negative_prompt': '', 'config': {'model': 'musicgen', 'duration': 5, 'top_k': 100, 'top_p': 0.5, 'task_name': 'tasks.parrot_musicgen_task', 'task_type': 'TEXT-TO-AUDIO', 'queue_name': 'musicgen_queue'}}, 'errors': [], 'error_description': '', 'start_time': '2024-03-14 15:27:39.379578', 'end_time': '2024-03-14 15:27:39.416087', 'host_of_client_call_request': '103.186.100.36', 'total_time_by_second': 0.036521, 'status': 'success'}\n"
     ]
    },
    {
     "data": {
      "text/plain": [
       "'bc293c5eff7846bbafb335318f566260'"
      ]
     },
     "execution_count": 31,
     "metadata": {},
     "output_type": "execute_result"
    }
   ],
   "source": [
    "# Create task\n",
    "resp = parrotai.create_txt2audio(\n",
    "    prompt=\"Happy pop music\", \n",
    "    model=model,\n",
    "    duration=duration,\n",
    "    top_k=top_k,\n",
    "    top_p=top_p\n",
    ")\n",
    "print(resp)\n",
    "task_id = resp['data']['task_id']\n",
    "task_id"
   ]
  },
  {
   "cell_type": "code",
   "execution_count": 32,
   "metadata": {},
   "outputs": [
    {
     "name": "stdout",
     "output_type": "stream",
     "text": [
      "{'data': {'is_success': True, 'data': {'task_id': 'bc293c5eff7846bbafb335318f566260', 'total_tasks': 1, 'percent': 100, 'status': 'COMPLETED', 'url_download': 'https://media.joinparrot.ai/parrot-prod/generated_result/bc293c5eff7846bbafb335318f566260.wav'}}, 'errors': [], 'error_description': '', 'start_time': '2024-03-14 15:27:52.075112', 'end_time': '2024-03-14 15:27:52.075732', 'host_of_client_call_request': '103.186.100.36', 'total_time_by_second': 0.000628, 'status': 'success'}\n"
     ]
    }
   ],
   "source": [
    "# Get result\n",
    "timeout = time.time() + 60 \n",
    "while True:\n",
    "    if time.time() > timeout:\n",
    "        break\n",
    "    time.sleep(1)\n",
    "    resp_result = parrotai.result_txt2audio(task_id)\n",
    "    if resp_result['data']['data']['status'] == 'COMPLETED':\n",
    "        break\n",
    "print(resp_result)"
   ]
  }
 ],
 "metadata": {
  "kernelspec": {
   "display_name": "Python 3",
   "language": "python",
   "name": "python3"
  },
  "language_info": {
   "codemirror_mode": {
    "name": "ipython",
    "version": 3
   },
   "file_extension": ".py",
   "mimetype": "text/x-python",
   "name": "python",
   "nbconvert_exporter": "python",
   "pygments_lexer": "ipython3",
   "version": "3.10.7"
  }
 },
 "nbformat": 4,
 "nbformat_minor": 2
}
