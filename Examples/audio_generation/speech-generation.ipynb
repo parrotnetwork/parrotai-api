{
 "cells": [
  {
   "cell_type": "code",
   "execution_count": null,
   "metadata": {},
   "outputs": [],
   "source": [
    "# Update new package. Lastest version is 0.1.16\n",
    "!pip install parrotai -U"
   ]
  },
  {
   "cell_type": "code",
   "execution_count": 1,
   "metadata": {},
   "outputs": [],
   "source": [
    "from parrotai import ParrotAPI\n",
    "import time"
   ]
  },
  {
   "cell_type": "code",
   "execution_count": 2,
   "metadata": {},
   "outputs": [],
   "source": [
    "# Create a new instance of the ParrotAPI\n",
    "parrotai = ParrotAPI()"
   ]
  },
  {
   "cell_type": "markdown",
   "metadata": {},
   "source": [
    "# Login"
   ]
  },
  {
   "cell_type": "code",
   "execution_count": 3,
   "metadata": {},
   "outputs": [],
   "source": [
    "# please visit https://joinparrot.ai to register your account\n",
    "\n",
    "username = '<your-username>'\n",
    "password = '<your-password>'"
   ]
  },
  {
   "cell_type": "code",
   "execution_count": 4,
   "metadata": {},
   "outputs": [],
   "source": [
    "# login to the API. The credentials are stored in the object. You to login first before you can access the other endpoints\n",
    "_ = parrotai.login(username=username, password=password)"
   ]
  },
  {
   "cell_type": "markdown",
   "metadata": {},
   "source": [
    "# List Model"
   ]
  },
  {
   "cell_type": "code",
   "execution_count": 5,
   "metadata": {},
   "outputs": [
    {
     "name": "stdout",
     "output_type": "stream",
     "text": [
      "{'data': [{'model': 'bark', 'metadata': {}}, {'model': 'audiogen', 'metadata': {}}, {'model': 'musicgen', 'metadata': {}}], 'errors': [], 'error_description': '', 'start_time': '2024-03-14 15:31:57.176281', 'end_time': '2024-03-14 15:31:57.182973', 'host_of_client_call_request': '103.186.100.36', 'total_time_by_second': 0.006703, 'status': 'success'}\n"
     ]
    }
   ],
   "source": [
    "# Get models\n",
    "models = parrotai.get_models(\"audio_generation\")\n",
    "print(models)"
   ]
  },
  {
   "cell_type": "markdown",
   "metadata": {},
   "source": [
    "# Parrot AI: Generate Audio"
   ]
  },
  {
   "cell_type": "markdown",
   "metadata": {},
   "source": [
    "### Example 1"
   ]
  },
  {
   "cell_type": "code",
   "execution_count": 13,
   "metadata": {},
   "outputs": [
    {
     "name": "stdout",
     "output_type": "stream",
     "text": [
      "{'data': {'task_id': 'ac188e98a27649d09f561e47ec4a6cbc', 'prompt': 'Hello, my name is suno', 'negative_prompt': '', 'config': {'model': 'bark', 'task_name': 'tasks.parrot_t2s_task', 'task_type': 'TXT2AUDIO', 'queue_name': 't2s_queue'}}, 'errors': [], 'error_description': '', 'start_time': '2024-03-14 15:36:28.224010', 'end_time': '2024-03-14 15:36:28.248425', 'host_of_client_call_request': '103.186.100.36', 'total_time_by_second': 0.024426, 'status': 'success'}\n"
     ]
    },
    {
     "data": {
      "text/plain": [
       "'ac188e98a27649d09f561e47ec4a6cbc'"
      ]
     },
     "execution_count": 13,
     "metadata": {},
     "output_type": "execute_result"
    }
   ],
   "source": [
    "# Create task\n",
    "model = \"bark\"\n",
    "resp = parrotai.create_txt2audio(\n",
    "    prompt=\"Hello, my name is suno\",\n",
    "    model=model\n",
    ")\n",
    "print(resp)\n",
    "task_id = resp['data']['task_id']\n",
    "task_id"
   ]
  },
  {
   "cell_type": "code",
   "execution_count": 14,
   "metadata": {},
   "outputs": [
    {
     "name": "stdout",
     "output_type": "stream",
     "text": [
      "{'data': {'is_success': True, 'data': {'task_id': 'ac188e98a27649d09f561e47ec4a6cbc', 'total_tasks': 1, 'percent': 100, 'status': 'COMPLETED', 'url_download': 'https://media.joinparrot.ai/parrot-prod/generated_result/ac188e98a27649d09f561e47ec4a6cbc.wav'}}, 'errors': [], 'error_description': '', 'start_time': '2024-03-14 15:37:12.961615', 'end_time': '2024-03-14 15:37:12.962183', 'host_of_client_call_request': '103.186.100.36', 'total_time_by_second': 0.000576, 'status': 'success'}\n"
     ]
    }
   ],
   "source": [
    "# Get result\n",
    "timeout = time.time() + 300 \n",
    "while True:\n",
    "    if time.time() > timeout:\n",
    "        break\n",
    "    time.sleep(1)\n",
    "    resp_result = parrotai.result_txt2audio(task_id)\n",
    "    if resp_result['data']['data']['status'] == 'COMPLETED':\n",
    "        break\n",
    "print(resp_result)"
   ]
  },
  {
   "cell_type": "markdown",
   "metadata": {},
   "source": [
    "### Example 2"
   ]
  },
  {
   "cell_type": "code",
   "execution_count": 17,
   "metadata": {},
   "outputs": [
    {
     "name": "stdout",
     "output_type": "stream",
     "text": [
      "{'data': {'task_id': 'e41f0f3df2cb47bba5358df733f1a865', 'prompt': \"Hello, I'm Sarah, an avid reader and aspiring writer. I find solace in the pages of a book and am constantly inspired to craft my own stories. Let's share our literary adventures and explore the world of imagination together!\", 'negative_prompt': '', 'config': {'model': 'bark', 'task_name': 'tasks.parrot_t2s_task', 'task_type': 'TXT2AUDIO', 'queue_name': 't2s_queue'}}, 'errors': [], 'error_description': '', 'start_time': '2024-03-14 15:41:34.707455', 'end_time': '2024-03-14 15:41:34.734148', 'host_of_client_call_request': '103.186.100.36', 'total_time_by_second': 0.026714, 'status': 'success'}\n"
     ]
    },
    {
     "data": {
      "text/plain": [
       "'e41f0f3df2cb47bba5358df733f1a865'"
      ]
     },
     "execution_count": 17,
     "metadata": {},
     "output_type": "execute_result"
    }
   ],
   "source": [
    "# Create task\n",
    "model = \"bark\"\n",
    "resp = parrotai.create_txt2audio(\n",
    "    prompt=\"Hello, I'm Sarah, an avid reader and aspiring writer. I find solace in the pages of a book and am constantly inspired to craft my own stories. Let's share our literary adventures and explore the world of imagination together!\",\n",
    "    model=model\n",
    ")\n",
    "print(resp)\n",
    "task_id = resp['data']['task_id']\n",
    "task_id"
   ]
  },
  {
   "cell_type": "code",
   "execution_count": 18,
   "metadata": {},
   "outputs": [
    {
     "name": "stdout",
     "output_type": "stream",
     "text": [
      "{'data': {'is_success': True, 'data': {'task_id': 'e41f0f3df2cb47bba5358df733f1a865', 'total_tasks': 1, 'percent': 100, 'status': 'COMPLETED', 'url_download': 'https://media.joinparrot.ai/parrot-prod/generated_result/e41f0f3df2cb47bba5358df733f1a865.wav'}}, 'errors': [], 'error_description': '', 'start_time': '2024-03-14 15:42:23.835173', 'end_time': '2024-03-14 15:42:23.835783', 'host_of_client_call_request': '103.186.100.36', 'total_time_by_second': 0.000615, 'status': 'success'}\n"
     ]
    }
   ],
   "source": [
    "# Get result\n",
    "timeout = time.time() + 300 \n",
    "while True:\n",
    "    if time.time() > timeout:\n",
    "        break\n",
    "    time.sleep(1)\n",
    "    resp_result = parrotai.result_txt2audio(task_id)\n",
    "    if resp_result['data']['data']['status'] == 'COMPLETED':\n",
    "        break\n",
    "print(resp_result)"
   ]
  },
  {
   "cell_type": "markdown",
   "metadata": {},
   "source": [
    "### Example 3"
   ]
  },
  {
   "cell_type": "code",
   "execution_count": 23,
   "metadata": {},
   "outputs": [
    {
     "name": "stdout",
     "output_type": "stream",
     "text": [
      "{'data': {'task_id': 'a39037cb47e6492ca9b85462c6807fa3', 'prompt': \"Hi, I'm David, a passionate graphic designer with a flair for creativity. I thrive on transforming ideas into visually captivating designs that leave a lasting impression. Let's collaborate and bring your vision to life with stunning visuals!\", 'negative_prompt': '', 'config': {'model': 'bark', 'task_name': 'tasks.parrot_t2s_task', 'task_type': 'TXT2AUDIO', 'queue_name': 't2s_queue'}}, 'errors': [], 'error_description': '', 'start_time': '2024-03-14 15:48:44.781549', 'end_time': '2024-03-14 15:48:44.804244', 'host_of_client_call_request': '103.186.100.36', 'total_time_by_second': 0.022707, 'status': 'success'}\n"
     ]
    },
    {
     "data": {
      "text/plain": [
       "'a39037cb47e6492ca9b85462c6807fa3'"
      ]
     },
     "execution_count": 23,
     "metadata": {},
     "output_type": "execute_result"
    }
   ],
   "source": [
    "# Create task\n",
    "model = \"bark\"\n",
    "resp = parrotai.create_txt2audio(\n",
    "    prompt=\"Hi, I'm David, a passionate graphic designer with a flair for creativity. I thrive on transforming ideas into visually captivating designs that leave a lasting impression. Let's collaborate and bring your vision to life with stunning visuals!\",\n",
    "    model=model\n",
    ")\n",
    "print(resp)\n",
    "task_id = resp['data']['task_id']\n",
    "task_id"
   ]
  },
  {
   "cell_type": "code",
   "execution_count": 24,
   "metadata": {},
   "outputs": [
    {
     "name": "stdout",
     "output_type": "stream",
     "text": [
      "{'data': {'is_success': True, 'data': {'task_id': 'a39037cb47e6492ca9b85462c6807fa3', 'total_tasks': 1, 'percent': 100, 'status': 'COMPLETED', 'url_download': 'https://media.joinparrot.ai/parrot-prod/generated_result/a39037cb47e6492ca9b85462c6807fa3.wav'}}, 'errors': [], 'error_description': '', 'start_time': '2024-03-14 15:50:16.734061', 'end_time': '2024-03-14 15:50:16.734660', 'host_of_client_call_request': '103.186.100.36', 'total_time_by_second': 0.000608, 'status': 'success'}\n"
     ]
    }
   ],
   "source": [
    "# Get result\n",
    "timeout = time.time() + 300 \n",
    "while True:\n",
    "    if time.time() > timeout:\n",
    "        break\n",
    "    time.sleep(1)\n",
    "    resp_result = parrotai.result_txt2audio(task_id)\n",
    "    if resp_result['data']['data']['status'] == 'COMPLETED':\n",
    "        break\n",
    "print(resp_result)"
   ]
  },
  {
   "cell_type": "markdown",
   "metadata": {},
   "source": [
    "### Example 4"
   ]
  },
  {
   "cell_type": "code",
   "execution_count": 25,
   "metadata": {},
   "outputs": [
    {
     "name": "stdout",
     "output_type": "stream",
     "text": [
      "{'data': {'task_id': '778acc2ae281446da6a035a3786af113', 'prompt': 'Hello Hello Hello Hello Hello Hello Hello Hello Hello Hello Hello Hello Hello Hello Hello Hello', 'negative_prompt': '', 'config': {'model': 'bark', 'task_name': 'tasks.parrot_t2s_task', 'task_type': 'TXT2AUDIO', 'queue_name': 't2s_queue'}}, 'errors': [], 'error_description': '', 'start_time': '2024-03-14 15:51:38.852433', 'end_time': '2024-03-14 15:51:38.877834', 'host_of_client_call_request': '103.186.100.36', 'total_time_by_second': 0.025406, 'status': 'success'}\n"
     ]
    },
    {
     "data": {
      "text/plain": [
       "'778acc2ae281446da6a035a3786af113'"
      ]
     },
     "execution_count": 25,
     "metadata": {},
     "output_type": "execute_result"
    }
   ],
   "source": [
    "# Create task\n",
    "model = \"bark\"\n",
    "resp = parrotai.create_txt2audio(\n",
    "    prompt=\"Hello Hello Hello Hello Hello Hello Hello Hello Hello Hello Hello Hello Hello Hello Hello Hello\",\n",
    "    model=model\n",
    ")\n",
    "print(resp)\n",
    "task_id = resp['data']['task_id']\n",
    "task_id"
   ]
  },
  {
   "cell_type": "code",
   "execution_count": 26,
   "metadata": {},
   "outputs": [
    {
     "name": "stdout",
     "output_type": "stream",
     "text": [
      "{'data': {'is_success': True, 'data': {'task_id': '778acc2ae281446da6a035a3786af113', 'total_tasks': 1, 'percent': 100, 'status': 'COMPLETED', 'url_download': 'https://media.joinparrot.ai/parrot-prod/generated_result/778acc2ae281446da6a035a3786af113.wav'}}, 'errors': [], 'error_description': '', 'start_time': '2024-03-14 15:52:02.526733', 'end_time': '2024-03-14 15:52:02.527335', 'host_of_client_call_request': '103.186.100.36', 'total_time_by_second': 0.000611, 'status': 'success'}\n"
     ]
    }
   ],
   "source": [
    "# Get result\n",
    "timeout = time.time() + 300 \n",
    "while True:\n",
    "    if time.time() > timeout:\n",
    "        break\n",
    "    time.sleep(1)\n",
    "    resp_result = parrotai.result_txt2audio(task_id)\n",
    "    if resp_result['data']['data']['status'] == 'COMPLETED':\n",
    "        break\n",
    "print(resp_result)"
   ]
  },
  {
   "cell_type": "markdown",
   "metadata": {},
   "source": [
    "### Example 5"
   ]
  },
  {
   "cell_type": "code",
   "execution_count": 44,
   "metadata": {},
   "outputs": [
    {
     "name": "stdout",
     "output_type": "stream",
     "text": [
      "{'data': {'task_id': '40ef6804b963452f82b2d8c50c060aea', 'prompt': 'Oh my God', 'negative_prompt': '', 'config': {'model': 'bark', 'task_name': 'tasks.parrot_t2s_task', 'task_type': 'TXT2AUDIO', 'queue_name': 't2s_queue'}}, 'errors': [], 'error_description': '', 'start_time': '2024-03-14 16:02:36.043762', 'end_time': '2024-03-14 16:02:36.061968', 'host_of_client_call_request': '103.186.100.36', 'total_time_by_second': 0.018211, 'status': 'success'}\n"
     ]
    },
    {
     "data": {
      "text/plain": [
       "'40ef6804b963452f82b2d8c50c060aea'"
      ]
     },
     "execution_count": 44,
     "metadata": {},
     "output_type": "execute_result"
    }
   ],
   "source": [
    "# Create task\n",
    "model = \"bark\"\n",
    "resp = parrotai.create_txt2audio(\n",
    "    prompt=\"Oh my God\",\n",
    "    model=model\n",
    ")\n",
    "print(resp)\n",
    "task_id = resp['data']['task_id']\n",
    "task_id"
   ]
  },
  {
   "cell_type": "code",
   "execution_count": 45,
   "metadata": {},
   "outputs": [
    {
     "name": "stdout",
     "output_type": "stream",
     "text": [
      "{'data': {'is_success': True, 'data': {'task_id': '40ef6804b963452f82b2d8c50c060aea', 'total_tasks': 1, 'percent': 100, 'status': 'COMPLETED', 'url_download': 'https://media.joinparrot.ai/parrot-prod/generated_result/40ef6804b963452f82b2d8c50c060aea.wav'}}, 'errors': [], 'error_description': '', 'start_time': '2024-03-14 16:02:48.401511', 'end_time': '2024-03-14 16:02:48.402053', 'host_of_client_call_request': '103.186.100.36', 'total_time_by_second': 0.000546, 'status': 'success'}\n"
     ]
    }
   ],
   "source": [
    "# Get result\n",
    "timeout = time.time() + 300 \n",
    "while True:\n",
    "    if time.time() > timeout:\n",
    "        break\n",
    "    time.sleep(1)\n",
    "    resp_result = parrotai.result_txt2audio(task_id)\n",
    "    if resp_result['data']['data']['status'] == 'COMPLETED':\n",
    "        break\n",
    "print(resp_result)"
   ]
  }
 ],
 "metadata": {
  "kernelspec": {
   "display_name": "Python 3",
   "language": "python",
   "name": "python3"
  },
  "language_info": {
   "codemirror_mode": {
    "name": "ipython",
    "version": 3
   },
   "file_extension": ".py",
   "mimetype": "text/x-python",
   "name": "python",
   "nbconvert_exporter": "python",
   "pygments_lexer": "ipython3",
   "version": "3.10.7"
  }
 },
 "nbformat": 4,
 "nbformat_minor": 2
}
