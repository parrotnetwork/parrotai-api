{
 "cells": [
  {
   "cell_type": "code",
   "execution_count": null,
   "metadata": {},
   "outputs": [],
   "source": [
    "# install the package\n",
    "!pip install parrotai"
   ]
  },
  {
   "cell_type": "code",
   "execution_count": null,
   "metadata": {},
   "outputs": [],
   "source": [
    "from parrotai import ParrotAPI"
   ]
  },
  {
   "cell_type": "code",
   "execution_count": null,
   "metadata": {},
   "outputs": [],
   "source": [
    "# Create a new instance of the ParrotAPI\n",
    "parrot = ParrotAPI()"
   ]
  },
  {
   "cell_type": "markdown",
   "metadata": {},
   "source": [
    "# Developer guide\n",
    "Visit https://developer.joinparrot.ai/ to learn how to integrate with Parrot AI via API  "
   ]
  },
  {
   "cell_type": "markdown",
   "metadata": {},
   "source": [
    "# Parrot AI: Generate image"
   ]
  },
  {
   "cell_type": "markdown",
   "metadata": {},
   "source": [
    "## Login"
   ]
  },
  {
   "cell_type": "code",
   "execution_count": null,
   "metadata": {},
   "outputs": [],
   "source": [
    "# please visit https://joinparrot.ai to register your account\n",
    "\n",
    "username = '<your-username>'\n",
    "password = '<your-password>'"
   ]
  },
  {
   "cell_type": "code",
   "execution_count": null,
   "metadata": {},
   "outputs": [],
   "source": [
    "# login to the API. The credentials are stored in the object. You to login first before you can access the other endpoints\n",
    "login_resp = parrot.login(username=username, password=password)"
   ]
  },
  {
   "cell_type": "markdown",
   "metadata": {},
   "source": [
    "# Generate image"
   ]
  },
  {
   "cell_type": "code",
   "execution_count": null,
   "metadata": {},
   "outputs": [],
   "source": [
    "def download_image(url, filename):\n",
    "    \"\"\"Downloads an image from the specified URL and saves it to the given filename.\n",
    "\n",
    "    Args:\n",
    "        url (str): The URL of the image to download.\n",
    "        filename (str): The desired filename for the downloaded image.\n",
    "\n",
    "    Raises:\n",
    "        Exception: If the image download fails.\n",
    "    \"\"\"\n",
    "\n",
    "    try:\n",
    "        response = requests.get(url, stream=True)\n",
    "        response.raise_for_status()  # Raise an exception for non-200 status codes\n",
    "\n",
    "        with open(filename, 'wb') as f:\n",
    "            for chunk in response.iter_content(1024):\n",
    "                f.write(chunk)\n",
    "\n",
    "        print(f\"Image downloaded successfully: {filename}\")\n",
    "\n",
    "    except Exception as e:\n",
    "        print(f\"Error downloading image: {e}\")\n"
   ]
  },
  {
   "cell_type": "code",
   "execution_count": null,
   "metadata": {},
   "outputs": [],
   "source": [
    "import time\n",
    "\n",
    "def sleep(dur: int = 1):\n",
    "    \"\"\"Pauses the program execution for 1 second.\"\"\"\n",
    "\n",
    "    time.sleep(dur)  # Sleep for 1 second\n",
    "\n"
   ]
  },
  {
   "cell_type": "markdown",
   "metadata": {},
   "source": [
    "# SDXL"
   ]
  },
  {
   "cell_type": "markdown",
   "metadata": {},
   "source": [
    "## Create a SDXL task"
   ]
  },
  {
   "cell_type": "code",
   "execution_count": null,
   "metadata": {},
   "outputs": [],
   "source": [
    "resp = parrot.create_sdxl_task(\n",
    "    \"Water color photo of sunset in the beach.\",    \n",
    "    rotation=\"square\", \n",
    "    steps=50, \n",
    "    negative_prompt=\"ship, island, beach\",\n",
    "    enhance_prompt = True)\n",
    "\n",
    "resp "
   ]
  },
  {
   "cell_type": "markdown",
   "metadata": {},
   "source": [
    "## Get the status and result"
   ]
  },
  {
   "cell_type": "code",
   "execution_count": null,
   "metadata": {},
   "outputs": [],
   "source": [
    "task_id = resp['data']['task_id']\n",
    "task_id"
   ]
  },
  {
   "cell_type": "code",
   "execution_count": null,
   "metadata": {},
   "outputs": [],
   "source": [
    "# check the status of the task\n",
    "resp = parrot.get_result_sdxl_task(task_id)\n",
    "status = resp['data']['data']['status']\n",
    "\n",
    "# if not completed, wait for 1+ second and check again\n",
    "count = 0\n",
    "while status != \"COMPLETED\":\n",
    "    sleep(1 + count/2)\n",
    "    resp = parrot.get_result_sdxl_task(task_id)\n",
    "    status = resp['data']['data']['status']    \n",
    "    print(f\"Task status: {status}\")\n",
    "    count += 1\n",
    "    if count == 10:\n",
    "        break\n",
    "\n",
    "# show the output url\n",
    "if status == \"COMPLETED\":\n",
    "    image_url = resp['data']['data']['url_download']\n",
    "    if image_url:\n",
    "        print(\"Output url:\")\n",
    "        print(image_url)\n",
    "    else: \n",
    "        print(\"Task not completed yet.\")\n"
   ]
  },
  {
   "cell_type": "markdown",
   "metadata": {},
   "source": [
    "# SD"
   ]
  },
  {
   "cell_type": "markdown",
   "metadata": {},
   "source": [
    "## Create a SD task"
   ]
  },
  {
   "cell_type": "code",
   "execution_count": null,
   "metadata": {},
   "outputs": [],
   "source": [
    "resp = parrot.create_sd_task(\n",
    "    \"Water color photo of a parrot in the jungle.\",    \n",
    "    rotation=\"squre\", \n",
    "    steps=50, \n",
    "    enhance_prompt = True)\n",
    "\n",
    "resp "
   ]
  },
  {
   "cell_type": "markdown",
   "metadata": {},
   "source": [
    "## Get the status and result"
   ]
  },
  {
   "cell_type": "code",
   "execution_count": null,
   "metadata": {},
   "outputs": [],
   "source": [
    "task_id = resp['data']['task_id']\n",
    "task_id"
   ]
  },
  {
   "cell_type": "code",
   "execution_count": null,
   "metadata": {},
   "outputs": [],
   "source": [
    "# check the status of the task\n",
    "resp = parrot.get_result_sd_task(task_id)\n",
    "status = resp['data']['data']['status']\n",
    "\n",
    "# if not completed, wait for 1+ second and check again\n",
    "count = 0\n",
    "while status != \"COMPLETED\":\n",
    "    sleep(1 + count/2)\n",
    "    resp = parrot.get_result_sd_task(task_id)\n",
    "    status = resp['data']['data']['status']    \n",
    "    print(f\"Task status: {status}\")\n",
    "    count += 1\n",
    "    if count == 10:\n",
    "        break\n",
    "\n",
    "# show the output url\n",
    "if status == \"COMPLETED\":\n",
    "    image_url = resp['data']['data']['url_download']\n",
    "    if image_url:\n",
    "        print(\"Output url:\")\n",
    "        print(image_url)\n",
    "    else: \n",
    "        print(\"Task not completed yet.\")"
   ]
  }
 ],
 "metadata": {
  "kernelspec": {
   "display_name": "Python 3",
   "language": "python",
   "name": "python3"
  },
  "language_info": {
   "codemirror_mode": {
    "name": "ipython",
    "version": 3
   },
   "file_extension": ".py",
   "mimetype": "text/x-python",
   "name": "python",
   "nbconvert_exporter": "python",
   "pygments_lexer": "ipython3",
   "version": "3.11.8"
  }
 },
 "nbformat": 4,
 "nbformat_minor": 2
}
