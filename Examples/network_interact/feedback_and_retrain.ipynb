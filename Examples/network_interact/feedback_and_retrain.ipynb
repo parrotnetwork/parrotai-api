{
 "cells": [
  {
   "cell_type": "code",
   "execution_count": null,
   "metadata": {},
   "outputs": [],
   "source": [
    "# install the package\n",
    "!pip install parrotai"
   ]
  },
  {
   "cell_type": "code",
   "execution_count": null,
   "metadata": {},
   "outputs": [],
   "source": [
    "from parrotai import ParrotAPI"
   ]
  },
  {
   "cell_type": "code",
   "execution_count": null,
   "metadata": {},
   "outputs": [],
   "source": [
    "# Create a new instance of the ParrotAPI\n",
    "parrot = ParrotAPI()"
   ]
  },
  {
   "cell_type": "markdown",
   "metadata": {},
   "source": [
    "# Developer guide\n",
    "Visit https://developer.joinparrot.ai/ to learn how to integrate with Parrot AI via API  "
   ]
  },
  {
   "cell_type": "markdown",
   "metadata": {},
   "source": [
    "# Parrot AI: Feedback and retrain"
   ]
  },
  {
   "cell_type": "markdown",
   "metadata": {},
   "source": [
    "## Login"
   ]
  },
  {
   "cell_type": "code",
   "execution_count": null,
   "metadata": {},
   "outputs": [],
   "source": [
    "# please visit https://joinparrot.ai to register your account\n",
    "\n",
    "username = '<your-username>'\n",
    "password = '<your-password>'"
   ]
  },
  {
   "cell_type": "code",
   "execution_count": null,
   "metadata": {},
   "outputs": [],
   "source": [
    "# login to the API. The credentials are stored in the object. You to login first before you can access the other endpoints\n",
    "login_resp = parrot.login(username=username, password=password)\n"
   ]
  },
  {
   "cell_type": "markdown",
   "metadata": {},
   "source": [
    "# LoRA"
   ]
  },
  {
   "cell_type": "markdown",
   "metadata": {},
   "source": [
    "## Create LoRA Training"
   ]
  },
  {
   "cell_type": "code",
   "execution_count": null,
   "metadata": {},
   "outputs": [],
   "source": [
    "import requests\n",
    "\n",
    "def download_image_data(image_url):\n",
    "    \"\"\"Download image data from a URL.\"\"\"\n",
    "    response = requests.get(image_url)\n",
    "    return response.content\n",
    "\n",
    "# sample data\n",
    "image_urls = [\n",
    "    \"https://i.ibb.co/ygqf1zx/240-F-19712218-ht1-Hg-YYe7-Zcn2-Ar8-Hxf-Ed-Vipqz21oj-UM.jpg\",\n",
    "    \"https://i.ibb.co/7bdkn1T/240-F-432036078-hy-D7-MPY28kosm-AYtqb-U0f-Zbbo-PY61-DKZ.jpg\"\n",
    "]\n",
    "\n",
    "# get binary data\n",
    "images = [download_image_data(url) for url in image_urls]\n",
    "images"
   ]
  },
  {
   "cell_type": "code",
   "execution_count": null,
   "metadata": {},
   "outputs": [],
   "source": [
    "# generate a training task\n",
    "resp = parrot.create_lora_trainer_task(\n",
    "    \"A beautiful sunset over the ocean\", \n",
    "    images=images\n",
    ")\n",
    "resp"
   ]
  },
  {
   "cell_type": "markdown",
   "metadata": {},
   "source": [
    "## Get LoRA Result"
   ]
  },
  {
   "cell_type": "code",
   "execution_count": null,
   "metadata": {},
   "outputs": [],
   "source": [
    "import time\n",
    "\n",
    "def sleep(dur: int = 1):\n",
    "    \"\"\"Pauses the program execution for 1 second.\"\"\"\n",
    "\n",
    "    time.sleep(dur)  # Sleep for 1 second\n"
   ]
  },
  {
   "cell_type": "code",
   "execution_count": null,
   "metadata": {},
   "outputs": [],
   "source": [
    "task_id = resp['data']['task_id']\n",
    "task_id"
   ]
  },
  {
   "cell_type": "code",
   "execution_count": null,
   "metadata": {},
   "outputs": [],
   "source": [
    "parrot.get_result_lora_trainer_task(task_id=task_id)"
   ]
  },
  {
   "cell_type": "code",
   "execution_count": null,
   "metadata": {},
   "outputs": [],
   "source": [
    "# check the status of the task\n",
    "resp = parrot.get_result_lora_trainer_task(task_id=task_id)\n",
    "status = resp['data']['data']['status']\n",
    "\n",
    "# if not completed, wait for 1+ second and check again\n",
    "count = 0\n",
    "while status != \"COMPLETED\":\n",
    "    sleep(1 + count/10)\n",
    "    resp = parrot.get_result_lora_trainer_task(task_id=task_id)\n",
    "\n",
    "    status = resp['data']['data']['status']    \n",
    "    print(f\"Task status: {status}\")\n",
    "    count += 1\n",
    "    if count == 10:\n",
    "        break\n",
    "\n",
    "# show the output url\n",
    "lora_url = resp['data']['data']['url_download']\n",
    "if lora_url:\n",
    "    print(\"Lora url:\")\n",
    "    print(lora_url)\n",
    "else: \n",
    "    print(\"Task not completed yet.\")\n"
   ]
  },
  {
   "cell_type": "markdown",
   "metadata": {},
   "source": [
    "## Feedback"
   ]
  },
  {
   "cell_type": "code",
   "execution_count": null,
   "metadata": {},
   "outputs": [],
   "source": [
    "# submit feedback\n",
    "resp = parrot.submit_feedback(\n",
    "    task_id=task_id,\n",
    "    rating=0.3,\n",
    "    feedback=\"bad quality\"\n",
    ")\n",
    "resp "
   ]
  },
  {
   "cell_type": "code",
   "execution_count": null,
   "metadata": {},
   "outputs": [],
   "source": []
  }
 ],
 "metadata": {
  "kernelspec": {
   "display_name": "Python 3",
   "language": "python",
   "name": "python3"
  },
  "language_info": {
   "codemirror_mode": {
    "name": "ipython",
    "version": 3
   },
   "file_extension": ".py",
   "mimetype": "text/x-python",
   "name": "python",
   "nbconvert_exporter": "python",
   "pygments_lexer": "ipython3",
   "version": "3.11.8"
  }
 },
 "nbformat": 4,
 "nbformat_minor": 2
}
