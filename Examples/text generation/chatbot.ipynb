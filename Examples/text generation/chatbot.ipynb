{
 "cells": [
  {
   "cell_type": "code",
   "execution_count": null,
   "metadata": {},
   "outputs": [],
   "source": [
    "\"\"\"\n",
    "Chatbot Implementation with Parrot AI\n",
    "\n",
    "Description:\n",
    "This script enables the development of a sophisticated chatbot powered by Parrot AI's advanced natural language processing \n",
    "and understanding technologies. Designed to simulate conversational experiences with users, this chatbot can be deployed \n",
    "across various platforms and applications, offering personalized interactions and responses. It's capable of handling a \n",
    "wide range of tasks from answering FAQs to providing user-specific recommendations, making it an invaluable tool for \n",
    "customer support, e-commerce, and interactive entertainment. The implementation includes customizable dialogue flows \n",
    "and response mechanisms, allowing for a tailored conversational agent that meets specific user engagement goals.\n",
    "\n",
    "Author: [Your Name]\n",
    "Contact Information:\n",
    "- Email: [Your Email]\n",
    "- LinkedIn: [Your LinkedIn Profile]\n",
    "- GitHub: [Your GitHub Profile]\n",
    "\n",
    "I welcome any questions, feedback, or opportunities for collaboration. Please feel free to reach out through the provided \n",
    "contact details.\n",
    "\"\"\"\n"
   ]
  },
  {
   "cell_type": "markdown",
   "metadata": {},
   "source": [
    "# Setup"
   ]
  },
  {
   "cell_type": "code",
   "execution_count": null,
   "metadata": {},
   "outputs": [],
   "source": [
    "# Install the Parrot AI package\n",
    "!pip install parrotai --upgrade"
   ]
  },
  {
   "cell_type": "code",
   "execution_count": 2,
   "metadata": {},
   "outputs": [],
   "source": [
    "from parrotai import ParrotAPI\n",
    "\n",
    "# Create a new instance of the ParrotAPI\n",
    "parrot = ParrotAPI()"
   ]
  },
  {
   "cell_type": "markdown",
   "metadata": {},
   "source": [
    "# Login"
   ]
  },
  {
   "cell_type": "code",
   "execution_count": 3,
   "metadata": {},
   "outputs": [],
   "source": [
    "# please visit https://joinparrot.ai to register your account\n",
    "username = '<your-username>'\n",
    "password = '<your-password>'"
   ]
  },
  {
   "cell_type": "code",
   "execution_count": 5,
   "metadata": {},
   "outputs": [
    {
     "data": {
      "text/plain": [
       "{'data': {'username': 'parrot_dev',\n",
       "  'name': 'parrot_dev',\n",
       "  'full_name': 'parrot_dev',\n",
       "  'email': 'parrot_dev',\n",
       "  'phone_number': 'parrot_dev',\n",
       "  'avatar': 'parrot_dev',\n",
       "  'metadata': None,\n",
       "  'type': None,\n",
       "  'email_verified': False,\n",
       "  'access_token': 'eyJhbGciOiJIUzI1NiIsInR5cCI6IkpXVCJ9.eyJpZCI6MjIsInVzZXJuYW1lIjoicGFycm90X2RldiIsImhhc2hlZF9wYXNzd29yZCI6IiQyYiQxMiQ0WUU1bTJiNUhOdGthRFNnU2ZLby5PdFR5RVVjSnhCbU1qQmdWVmMvLlRZUHNnNTgzbzdQLiIsIm5hbWUiOiJwYXJyb3RfZGV2IiwiZnVsbF9uYW1lIjoicGFycm90X2RldiIsImVtYWlsIjoicGFycm90X2RldiIsInBob25lX251bWJlciI6InBhcnJvdF9kZXYiLCJhdmF0YXIiOiJwYXJyb3RfZGV2IiwidHlwZSI6bnVsbCwibGFzdF9sb2dpbl9hdCI6IjIwMjQtMDMtMDQgMTE6NDY6MjcuNjMwODA5IiwiZW1haWxfdmVyaWZpZWQiOmZhbHNlLCJjcmVkaXRzIjoxNS4wLCJtZXRhZGF0YSI6bnVsbCwiYWNjZXNzX3Rva2VuX2V4cGlyZV90aW1lIjoiMjAyNC0wMy0wNCAwNToxNjozMi42NjY5NTErMDA6MDAifQ.fC4i7BdBXmfJ3VMQdkRXYqpJVTBSw6LjzG5x4LjSbgQ',\n",
       "  'refresh_token': 'eyJhbGciOiJIUzI1NiIsInR5cCI6IkpXVCJ9.eyJpZCI6MjIsInVzZXJuYW1lIjoicGFycm90X2RldiIsImhhc2hlZF9wYXNzd29yZCI6IiQyYiQxMiQ0WUU1bTJiNUhOdGthRFNnU2ZLby5PdFR5RVVjSnhCbU1qQmdWVmMvLlRZUHNnNTgzbzdQLiIsIm5hbWUiOiJwYXJyb3RfZGV2IiwiZnVsbF9uYW1lIjoicGFycm90X2RldiIsImVtYWlsIjoicGFycm90X2RldiIsInBob25lX251bWJlciI6InBhcnJvdF9kZXYiLCJhdmF0YXIiOiJwYXJyb3RfZGV2IiwidHlwZSI6bnVsbCwibGFzdF9sb2dpbl9hdCI6IjIwMjQtMDMtMDQgMTE6NDY6MjcuNjMwODA5IiwiZW1haWxfdmVyaWZpZWQiOmZhbHNlLCJjcmVkaXRzIjoxNS4wLCJtZXRhZGF0YSI6bnVsbCwicmVmcmVzaF9leHBpcmVfdGltZSI6IjIwMjQtMDMtMTAgMTE6NDY6MzIuNjY3MjAyIn0.iKkob72o5wJarmMMVnCNlBLn-0PkWZDsqIzsfV16F3E',\n",
       "  'last_login_at': '2024-03-04 11:46:32.667266',\n",
       "  'credits': 15.0,\n",
       "  'expires_in': 7776000},\n",
       " 'errors': [],\n",
       " 'error_description': '',\n",
       " 'start_time': '2024-03-04 11:46:32.372547',\n",
       " 'end_time': '2024-03-04 11:46:32.670220',\n",
       " 'host_of_client_call_request': '103.186.100.36',\n",
       " 'total_time_by_second': 0.297676,\n",
       " 'status': 'success'}"
      ]
     },
     "execution_count": 5,
     "metadata": {},
     "output_type": "execute_result"
    }
   ],
   "source": [
    "# login to the API. The credentials are stored in the object. You to login first before you can access the other endpoints\n",
    "login_resp = parrot.login(username=username, password=password)"
   ]
  },
  {
   "cell_type": "markdown",
   "metadata": {},
   "source": [
    "# Parrot AI: Chatbot"
   ]
  },
  {
   "cell_type": "markdown",
   "metadata": {},
   "source": [
    "## Usage"
   ]
  },
  {
   "cell_type": "code",
   "execution_count": 11,
   "metadata": {},
   "outputs": [
    {
     "name": "stdout",
     "output_type": "stream",
     "text": [
      "I am an AI language model, and I am doing well, thank you for asking. How are you?\n"
     ]
    }
   ],
   "source": [
    "# Basic usage\n",
    "messages = [\n",
    "    {\"role\": \"user\", \"content\": \"Hello, how are you?\"},\n",
    "]\n",
    "\n",
    "response = parrot.text_generation(\n",
    "    messages=messages\n",
    ")\n",
    "\n",
    "if response[\"data\"][\"is_success\"]:\n",
    "    content = response[\"data\"][\"data\"][\"response\"]\n",
    "    print(content)"
   ]
  },
  {
   "cell_type": "code",
   "execution_count": 12,
   "metadata": {},
   "outputs": [
    {
     "name": "stdout",
     "output_type": "stream",
     "text": [
      "Parrots are a diverse group of medium-sized birds that are characterized by their highly developed communicative abilities, particularly their ability to mimic human speech. They are found in a wide variety of habitats, including forests, deserts, and even urban areas.\n",
      "\n",
      "Parrots are typically small to medium-sized birds, ranging in size from the tiny cockatiel to the massive African grey parrot. They have a distinctive triangular beak, a hooked tail, and brightly colored plumage. Parrots have a wide range of calls and sounds, including chirping, whistling, and drumming.\n",
      "\n",
      "Parrots are highly intelligent birds that are capable of learning a wide range of information, including human speech, songs, and behaviors. They are also highly social birds that live in flocks. Parrots are often kept as pets, and they are known for their ability to be excellent companions.\n",
      "\n",
      "Parrots are a fascinating group of birds that are an important part of the ecosystem. They are a joy to watch and listen to, and they are a valuable asset to the human family.\n"
     ]
    }
   ],
   "source": [
    "# Full configuration usage\n",
    "messages = [\n",
    "    {\"role\": \"user\", \"content\": \"Write a description about parrots\"}\n",
    "]\n",
    "\n",
    "response = parrot.text_generation(\n",
    "    messages=messages,\n",
    "    model=\"gemma-7b\",\n",
    "    max_tokens=512,\n",
    "    temperature=0.7,\n",
    "    top_p=0.9,\n",
    "    top_k=50,\n",
    ")\n",
    "\n",
    "response = parrot.text_generation(\n",
    "    messages=messages\n",
    ")\n",
    "\n",
    "if response[\"data\"][\"is_success\"]:\n",
    "    content = response[\"data\"][\"data\"][\"response\"]\n",
    "    print(content)"
   ]
  },
  {
   "cell_type": "markdown",
   "metadata": {},
   "source": [
    "## Build chatbot with Parrot AI"
   ]
  },
  {
   "cell_type": "code",
   "execution_count": null,
   "metadata": {},
   "outputs": [],
   "source": [
    "# Install gradio\n",
    "!pip install gradio"
   ]
  },
  {
   "cell_type": "code",
   "execution_count": 16,
   "metadata": {},
   "outputs": [],
   "source": [
    "import gradio as gr"
   ]
  },
  {
   "cell_type": "code",
   "execution_count": 15,
   "metadata": {},
   "outputs": [],
   "source": [
    "# Define the chatbot function\n",
    "\n",
    "def chat_with_parrotai(message, history):\n",
    "    # Add the user's message to the history\n",
    "    messages = history + [{\"role\": \"user\", \"content\": message}]\n",
    "\n",
    "    # Generate the response\n",
    "    response = parrot.text_generation(\n",
    "        messages=messages,\n",
    "        model=\"gemma-7b\",\n",
    "        max_tokens=512,\n",
    "        temperature=0.7,\n",
    "        top_p=0.9,\n",
    "        top_k=50,\n",
    "    )\n",
    "\n",
    "    response = parrot.text_generation(\n",
    "        messages=messages\n",
    "    )\n",
    "\n",
    "    if response[\"data\"][\"is_success\"]:\n",
    "        content = response[\"data\"][\"data\"][\"response\"]\n",
    "    return content"
   ]
  },
  {
   "cell_type": "code",
   "execution_count": 17,
   "metadata": {},
   "outputs": [
    {
     "name": "stdout",
     "output_type": "stream",
     "text": [
      "Caching examples at: 'D:\\Repos\\Parrot\\parrotai-api\\Examples\\text generation\\gradio_cached_examples\\14'\n",
      "Caching example 1/3\n",
      "Caching example 2/3\n",
      "Caching example 3/3\n",
      "Running on local URL:  http://127.0.0.1:7860\n",
      "\n",
      "To create a public link, set `share=True` in `launch()`.\n"
     ]
    },
    {
     "data": {
      "text/html": [
       "<div><iframe src=\"http://127.0.0.1:7860/\" width=\"100%\" height=\"500\" allow=\"autoplay; camera; microphone; clipboard-read; clipboard-write;\" frameborder=\"0\" allowfullscreen></iframe></div>"
      ],
      "text/plain": [
       "<IPython.core.display.HTML object>"
      ]
     },
     "metadata": {},
     "output_type": "display_data"
    },
    {
     "data": {
      "text/plain": []
     },
     "execution_count": 17,
     "metadata": {},
     "output_type": "execute_result"
    }
   ],
   "source": [
    "gr.ChatInterface(\n",
    "    chat_with_parrotai,\n",
    "    chatbot=gr.Chatbot(height=300),\n",
    "    textbox=gr.Textbox(placeholder=\"Ask me a yes or no question\", container=False, scale=7),\n",
    "    title=\"ParrotAI - Chatbot\",\n",
    "    theme=\"soft\",\n",
    "    examples=[\"Hello\", \"Am I cool?\", \"Are tomatoes vegetables?\"],\n",
    "    retry_btn=None,\n",
    "    undo_btn=\"Delete Previous\",\n",
    "    clear_btn=\"Clear\",\n",
    ").launch()"
   ]
  },
  {
   "cell_type": "code",
   "execution_count": null,
   "metadata": {},
   "outputs": [],
   "source": []
  }
 ],
 "metadata": {
  "kernelspec": {
   "display_name": "azs-dev",
   "language": "python",
   "name": "python3"
  },
  "language_info": {
   "codemirror_mode": {
    "name": "ipython",
    "version": 3
   },
   "file_extension": ".py",
   "mimetype": "text/x-python",
   "name": "python",
   "nbconvert_exporter": "python",
   "pygments_lexer": "ipython3",
   "version": "3.11.5"
  }
 },
 "nbformat": 4,
 "nbformat_minor": 2
}
