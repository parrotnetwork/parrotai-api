{
 "cells": [
  {
   "cell_type": "markdown",
   "metadata": {},
   "source": [
    "# Setup"
   ]
  },
  {
   "cell_type": "code",
   "execution_count": null,
   "metadata": {},
   "outputs": [],
   "source": [
    "# Install the Parrot AI package\n",
    "!pip install parrotai --upgrade"
   ]
  },
  {
   "cell_type": "code",
   "execution_count": 13,
   "metadata": {},
   "outputs": [],
   "source": [
    "from parrotai import ParrotAPI\n",
    "\n",
    "# Create a new instance of the ParrotAPI\n",
    "parrot = ParrotAPI()"
   ]
  },
  {
   "cell_type": "markdown",
   "metadata": {},
   "source": [
    "# Login"
   ]
  },
  {
   "cell_type": "code",
   "execution_count": 14,
   "metadata": {},
   "outputs": [],
   "source": [
    "# please visit https://joinparrot.ai to register your account\n",
    "username = '<your-username>'\n",
    "password = '<your-password>'"
   ]
  },
  {
   "cell_type": "code",
   "execution_count": 15,
   "metadata": {},
   "outputs": [],
   "source": [
    "# login to the API. The credentials are stored in the object. You to login first before you can access the other endpoints\n",
    "login_resp = parrot.login(username=username, password=password)"
   ]
  },
  {
   "cell_type": "markdown",
   "metadata": {},
   "source": [
    "# Parrot AI: Code Generation"
   ]
  },
  {
   "cell_type": "markdown",
   "metadata": {},
   "source": [
    "## Basic usage"
   ]
  },
  {
   "cell_type": "code",
   "execution_count": 4,
   "metadata": {},
   "outputs": [
    {
     "name": "stdout",
     "output_type": "stream",
     "text": [
      "I am an AI language model, and I am fine. Thank you for asking. How can I help you today?\n"
     ]
    }
   ],
   "source": [
    "# Basic usage\n",
    "messages = [\n",
    "    {\"role\": \"user\", \"content\": \"Hello, how are you?\"},\n",
    "]\n",
    "\n",
    "response = parrot.text_generation(\n",
    "    messages=messages\n",
    ")\n",
    "\n",
    "if response[\"data\"][\"is_success\"]:\n",
    "    content = response[\"data\"][\"data\"][\"response\"]\n",
    "    print(content)"
   ]
  },
  {
   "cell_type": "markdown",
   "metadata": {},
   "source": [
    "## Algorithm design "
   ]
  },
  {
   "cell_type": "code",
   "execution_count": 5,
   "metadata": {},
   "outputs": [
    {
     "name": "stdout",
     "output_type": "stream",
     "text": [
      "```python\n",
      "def sum_even_numbers(nums):\n",
      "  \"\"\"Calculates the sum of even numbers in a list of input numbers.\n",
      "\n",
      "  Args:\n",
      "    nums: A list of numbers.\n",
      "\n",
      "  Returns:\n",
      "    The sum of even numbers in the list.\n",
      "  \"\"\"\n",
      "\n",
      "  sum = 0\n",
      "  for num in nums:\n",
      "    if num % 2 == 0:\n",
      "      sum += num\n",
      "\n",
      "  return sum\n",
      "```\n",
      "\n",
      "**Explanation:**\n",
      "\n",
      "* The function `sum_even_numbers` takes a list `nums` as input.\n",
      "* It iterates over the list using a `for` loop.\n",
      "* For each number `num` in the list, it checks if `num` is even using the modulo operator (`%`).\n",
      "* If `num` is even, it adds `num` to the variable `sum`.\n",
      "* Finally, the function returns the value of `sum`.\n",
      "\n",
      "**Example Usage:**\n",
      "\n",
      "```python\n",
      "nums = [1, 2, 3, 4, 5, 6, 7, 8, 9, 10]\n",
      "even_sum = sum_even_numbers(nums)\n",
      "\n",
      "print(even_sum)\n"
     ]
    }
   ],
   "source": [
    "# Create a question\n",
    "question = \"Help me design a function to calculate the sum of even numbers with a list of input numbers.\"\n",
    "\n",
    "# Create messages\n",
    "messages = [\n",
    "    {\"role\": \"user\", \"content\": f\"{question}\"}\n",
    "]\n",
    "\n",
    "# Use the Parrot AI LLms model\n",
    "response = parrot.text_generation(\n",
    "    messages=messages,\n",
    "    model=\"gemma-7b\",\n",
    "    max_tokens=2048,\n",
    "    temperature=0.1,\n",
    "    top_p=0.95,\n",
    "    top_k=50,\n",
    ")\n",
    "\n",
    "response = parrot.text_generation(\n",
    "    messages=messages\n",
    ")\n",
    "\n",
    "if response[\"data\"][\"is_success\"]:\n",
    "    content = response[\"data\"][\"data\"][\"response\"]\n",
    "    print(content)"
   ]
  },
  {
   "cell_type": "code",
   "execution_count": 10,
   "metadata": {},
   "outputs": [
    {
     "name": "stdout",
     "output_type": "stream",
     "text": [
      "**Pseudocode for Genetic Algorithm**\n",
      "\n",
      "**Initialization:**\n",
      "- Initialize population of chromosomes (individuals).\n",
      "- Define fitness function to evaluate each chromosome.\n",
      "- Set number of generations (iterations).\n",
      "\n",
      "**Iteration:**\n",
      "- For each generation:\n",
      "  - Selection: Select fittest chromosomes for reproduction.\n",
      "  - Crossover: Mate selected chromosomes to produce offspring.\n",
      "  - Mutation: Randomly mutate offspring chromosomes.\n",
      "  - Replacement: Replace old chromosomes with new offspring.\n",
      "\n",
      "**Termination:**\n",
      "- Stop if number of generations is reached or a desired fitness is achieved.\n",
      "\n",
      "**Final Solution:**\n",
      "- The fittest chromosome at the end of the algorithm is the solution.\n",
      "\n",
      "**Additional Steps:**\n",
      "- Elitism: Include the fittest chromosomes in the next generation with a higher probability.\n",
      "- Tournament Selection: Select chromosomes randomly and compare them in a tournament to determine which ones will reproduce.\n",
      "- Crossover Operator: Use crossover to combine two chromosomes to produce offspring.\n",
      "- Mutation Operator: Randomly alter the genes of an offspring chromosome.\n",
      "\n",
      "**Example:**\n",
      "\n",
      "**Population:** A group of chromosomes, each representing a solution to a problem.\n",
      "**Fitness Function:** A function that evaluates the fitness of a chromosome, based on its performance in the problem.\n",
      "**\n"
     ]
    }
   ],
   "source": [
    "# Create a question\n",
    "question = \"Help me generate a pseudo code for the genetic algorithm.\"\n",
    "\n",
    "# Create messages\n",
    "messages = [\n",
    "    {\"role\": \"user\", \"content\": f\"{question}\"}\n",
    "]\n",
    "\n",
    "# Use the Parrot AI LLms model\n",
    "response = parrot.text_generation(\n",
    "    messages=messages,\n",
    "    model=\"gemma-7b\",\n",
    "    max_tokens=4096,\n",
    "    temperature=0.1,\n",
    "    top_p=0.95,\n",
    "    top_k=50,\n",
    ")\n",
    "\n",
    "response = parrot.text_generation(\n",
    "    messages=messages\n",
    ")\n",
    "\n",
    "if response[\"data\"][\"is_success\"]:\n",
    "    content = response[\"data\"][\"data\"][\"response\"]\n",
    "    print(content)"
   ]
  },
  {
   "cell_type": "markdown",
   "metadata": {},
   "source": [
    "## Explanation"
   ]
  },
  {
   "cell_type": "code",
   "execution_count": 11,
   "metadata": {},
   "outputs": [
    {
     "name": "stdout",
     "output_type": "stream",
     "text": [
      "**Logic:**\n",
      "\n",
      "The code defines a function called `factorial` that calculates the factorial of a given number `n`.\n",
      "\n",
      "* **Base Case:** If `n` is 0, it returns 1. This is because the factorial of 0 is defined as 1.\n",
      "* **Recursive Case:** Otherwise, it calculates `n` multiplied by the factorial of `n-1`, which is achieved by calling `factorial(n-1)` and multiplying it by `n`. This process continues until the base case is reached.\n",
      "\n",
      "**Execution Flow:**\n",
      "\n",
      "1. **Call `factorial(5)`:** The code calls `factorial(5)` to calculate the factorial of 5.\n",
      "2. **Base Case:** The function checks if `n` is 0. If it is, it returns 1, as it's the base case.\n",
      "3. **Recursive Case:** If `n` is not 0, it calculates `n` multiplied by the factorial of `n-1` by calling `factorial(n-1)` and multiplying the result by `n`.\n",
      "4. **Repeated Recursion:** This process continues until `n` reaches the base case, and the factorial is calculated.\n",
      "5. **Result:**\n"
     ]
    }
   ],
   "source": [
    "# Create a question\n",
    "question = '''\n",
    "```\n",
    "def factorial(n):\n",
    "    if n == 0:\n",
    "        return 1\n",
    "    else:\n",
    "        return n * factorial(n-1)\n",
    "\n",
    "result = factorial(5)\n",
    "print(\"Factorial of 5 is:\", result)\n",
    "```\n",
    "--\n",
    "Could you please clarify the logic and execution flow of this specific code example?\n",
    "'''\n",
    "\n",
    "# Create messages\n",
    "messages = [\n",
    "    {\"role\": \"user\", \"content\": f\"{question}\"}\n",
    "]\n",
    "\n",
    "# Use the Parrot AI LLms model\n",
    "response = parrot.text_generation(\n",
    "    messages=messages,\n",
    "    model=\"gemma-7b\",\n",
    "    max_tokens=4096,\n",
    "    temperature=0.1,\n",
    "    top_p=0.95,\n",
    "    top_k=50,\n",
    ")\n",
    "\n",
    "response = parrot.text_generation(\n",
    "    messages=messages\n",
    ")\n",
    "\n",
    "if response[\"data\"][\"is_success\"]:\n",
    "    content = response[\"data\"][\"data\"][\"response\"]\n",
    "    print(content)"
   ]
  },
  {
   "cell_type": "markdown",
   "metadata": {},
   "source": [
    "## Add comment"
   ]
  },
  {
   "cell_type": "code",
   "execution_count": 12,
   "metadata": {},
   "outputs": [
    {
     "name": "stdout",
     "output_type": "stream",
     "text": [
      "```python\n",
      "def factorial(n):\n",
      "    # This function calculates the factorial of a number.\n",
      "\n",
      "    # If n is 0, the factorial is 1.\n",
      "    if n == 0:\n",
      "        return 1\n",
      "\n",
      "    # Otherwise, the factorial is n multiplied by the factorial of n-1.\n",
      "    else:\n",
      "        return n * factorial(n-1)\n",
      "\n",
      "result = factorial(5)\n",
      "print(\"Factorial of 5 is:\", result)\n",
      "```\n",
      "\n",
      "In this code, the comment is added to the line `# This function calculates the factorial of a number.`\n",
      "\n",
      "This comment is useful because it explains the purpose of the function in a clear and concise way. It also helps to document the function for future reference.\n"
     ]
    }
   ],
   "source": [
    "# Create a question\n",
    "question = '''\n",
    "```\n",
    "def factorial(n):\n",
    "    # COMMENT HERE \n",
    "    if n == 0:\n",
    "        return 1\n",
    "    else:\n",
    "        return n * factorial(n-1)\n",
    "\n",
    "result = factorial(5)\n",
    "print(\"Factorial of 5 is:\", result)\n",
    "```\n",
    "--\n",
    "Add comment to code\n",
    "'''\n",
    "\n",
    "# Create messages\n",
    "messages = [\n",
    "    {\"role\": \"user\", \"content\": f\"{question}\"}\n",
    "]\n",
    "\n",
    "# Use the Parrot AI LLms model\n",
    "response = parrot.text_generation(\n",
    "    messages=messages,\n",
    "    model=\"gemma-7b\",\n",
    "    max_tokens=4096,\n",
    "    temperature=0.1,\n",
    "    top_p=0.95,\n",
    "    top_k=50,\n",
    ")\n",
    "\n",
    "response = parrot.text_generation(\n",
    "    messages=messages\n",
    ")\n",
    "\n",
    "if response[\"data\"][\"is_success\"]:\n",
    "    content = response[\"data\"][\"data\"][\"response\"]\n",
    "    print(content)"
   ]
  },
  {
   "cell_type": "markdown",
   "metadata": {},
   "source": [
    "## Command"
   ]
  },
  {
   "cell_type": "code",
   "execution_count": 16,
   "metadata": {},
   "outputs": [
    {
     "name": "stdout",
     "output_type": "stream",
     "text": [
      "**Command:**\n",
      "\n",
      "```\n",
      "docker-compose -h\n",
      "```\n",
      "\n",
      "**Options:**\n",
      "\n",
      "* **-h, --help:** Displays this help message.\n",
      "* **-f, --file:** Specifies the path to the docker-compose.yml file.\n",
      "* **-p, --project-name:** Sets the project name.\n",
      "* **-u, --user:** Sets the user for the container.\n",
      "* **-i, --interactive:** Starts the container in interactive mode.\n",
      "* **-t, --tty:** Allocates a pseudo-TTY to the container.\n",
      "* **-v, --volumes:** Mounts volumes from the host system to the container.\n",
      "* **-e, --environment:** Sets environment variables for the container.\n",
      "* **-b, --bind-ports:** Binds ports from the container to ports on the host system.\n",
      "* **-c, --command:** Specifies a command to be run when the container starts.\n",
      "* **-o, --output:** Specifies the output format.\n",
      "* **-q, --quiet:** Suppresses logging output.\n",
      "\n",
      "**Example Usage:**\n",
      "\n",
      "```\n",
      "docker-compose up\n",
      "```\n",
      "\n",
      "This command will start the containers defined in the docker-compose.yml file\n"
     ]
    }
   ],
   "source": [
    "# Create a question\n",
    "question = '''\n",
    "```\n",
    "Help mm docker compose command on ubuntu\n",
    "'''\n",
    "\n",
    "# Create messages\n",
    "messages = [\n",
    "    {\"role\": \"user\", \"content\": f\"{question}\"}\n",
    "]\n",
    "\n",
    "# Use the Parrot AI LLms model\n",
    "response = parrot.text_generation(\n",
    "    messages=messages,\n",
    "    model=\"gemma-7b\",\n",
    "    max_tokens=4096,\n",
    "    temperature=0.1,\n",
    "    top_p=0.95,\n",
    "    top_k=50,\n",
    ")\n",
    "\n",
    "response = parrot.text_generation(\n",
    "    messages=messages\n",
    ")\n",
    "\n",
    "if response[\"data\"][\"is_success\"]:\n",
    "    content = response[\"data\"][\"data\"][\"response\"]\n",
    "    print(content)"
   ]
  },
  {
   "cell_type": "code",
   "execution_count": null,
   "metadata": {},
   "outputs": [],
   "source": []
  }
 ],
 "metadata": {
  "kernelspec": {
   "display_name": "azs-dev",
   "language": "python",
   "name": "python3"
  },
  "language_info": {
   "codemirror_mode": {
    "name": "ipython",
    "version": 3
   },
   "file_extension": ".py",
   "mimetype": "text/x-python",
   "name": "python",
   "nbconvert_exporter": "python",
   "pygments_lexer": "ipython3",
   "version": "3.11.5"
  }
 },
 "nbformat": 4,
 "nbformat_minor": 2
}
