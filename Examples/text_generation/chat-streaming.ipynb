{
 "cells": [
  {
   "cell_type": "code",
   "execution_count": 1,
   "metadata": {},
   "outputs": [
    {
     "data": {
      "text/plain": [
       "\"\\nChatbot Implementation with Parrot AI\\n\\nDescription:\\nThis script enables the development of a sophisticated chatbot powered by Parrot AI's advanced natural language processing \\nand understanding technologies. Designed to simulate conversational experiences with users, this chatbot can be deployed \\nacross various platforms and applications, offering personalized interactions and responses. It's capable of handling a \\nwide range of tasks from answering FAQs to providing user-specific recommendations, making it an invaluable tool for \\ncustomer support, e-commerce, and interactive entertainment. The implementation includes customizable dialogue flows \\nand response mechanisms, allowing for a tailored conversational agent that meets specific user engagement goals.\\n\\nAuthor: [Your Name]\\nContact Information:\\n- Email: [Your Email]\\n- LinkedIn: [Your LinkedIn Profile]\\n- GitHub: [Your GitHub Profile]\\n\\nI welcome any questions, feedback, or opportunities for collaboration. Please feel free to reach out through the provided \\ncontact details.\\n\""
      ]
     },
     "execution_count": 1,
     "metadata": {},
     "output_type": "execute_result"
    }
   ],
   "source": [
    "\"\"\"\n",
    "Chatbot Implementation with Parrot AI\n",
    "\n",
    "Description:\n",
    "This script enables the development of a sophisticated chatbot powered by Parrot AI's advanced natural language processing \n",
    "and understanding technologies. Designed to simulate conversational experiences with users, this chatbot can be deployed \n",
    "across various platforms and applications, offering personalized interactions and responses. It's capable of handling a \n",
    "wide range of tasks from answering FAQs to providing user-specific recommendations, making it an invaluable tool for \n",
    "customer support, e-commerce, and interactive entertainment. The implementation includes customizable dialogue flows \n",
    "and response mechanisms, allowing for a tailored conversational agent that meets specific user engagement goals.\n",
    "\n",
    "Author: [Your Name]\n",
    "Contact Information:\n",
    "- Email: [Your Email]\n",
    "- LinkedIn: [Your LinkedIn Profile]\n",
    "- GitHub: [Your GitHub Profile]\n",
    "\n",
    "I welcome any questions, feedback, or opportunities for collaboration. Please feel free to reach out through the provided \n",
    "contact details.\n",
    "\"\"\"\n"
   ]
  },
  {
   "cell_type": "markdown",
   "metadata": {},
   "source": [
    "# Setup"
   ]
  },
  {
   "cell_type": "code",
   "execution_count": null,
   "metadata": {},
   "outputs": [],
   "source": [
    "# Install the Parrot AI package\n",
    "!pip install parrotai -U"
   ]
  },
  {
   "cell_type": "code",
   "execution_count": 18,
   "metadata": {},
   "outputs": [],
   "source": [
    "from parrotai import ParrotAPI\n",
    "\n",
    "# Create a new instance of the ParrotAPI\n",
    "parrot = ParrotAPI()"
   ]
  },
  {
   "cell_type": "markdown",
   "metadata": {},
   "source": [
    "# Login"
   ]
  },
  {
   "cell_type": "code",
   "execution_count": 19,
   "metadata": {},
   "outputs": [],
   "source": [
    "# please visit https://joinparrot.ai to register your account\n",
    "username = '<your-username>'\n",
    "password = '<your-password>'"
   ]
  },
  {
   "cell_type": "code",
   "execution_count": 20,
   "metadata": {},
   "outputs": [],
   "source": [
    "# login to the API. The credentials are stored in the object. You to login first before you can access the other endpoints\n",
    "login_resp = parrot.login(username=username, password=password)"
   ]
  },
  {
   "cell_type": "code",
   "execution_count": 15,
   "metadata": {},
   "outputs": [
    {
     "data": {
      "text/plain": [
       "{'data': [{'model': 'gemma-7b',\n",
       "   'metadata': {'source': 'https://huggingface.co/google/gemma-7b'}}],\n",
       " 'errors': [],\n",
       " 'error_description': '',\n",
       " 'start_time': '2024-03-11 23:55:32.021672',\n",
       " 'end_time': '2024-03-11 23:55:32.036434',\n",
       " 'host_of_client_call_request': '103.186.100.36',\n",
       " 'total_time_by_second': 0.014767,\n",
       " 'status': 'success'}"
      ]
     },
     "execution_count": 15,
     "metadata": {},
     "output_type": "execute_result"
    }
   ],
   "source": [
    "# List models\n",
    "resp = parrot.get_models('text_completion')\n",
    "resp"
   ]
  },
  {
   "cell_type": "markdown",
   "metadata": {},
   "source": [
    "# Parrot AI: Chat Streaming"
   ]
  },
  {
   "cell_type": "markdown",
   "metadata": {},
   "source": [
    "## Usage"
   ]
  },
  {
   "cell_type": "code",
   "execution_count": 21,
   "metadata": {},
   "outputs": [
    {
     "name": "stdout",
     "output_type": "stream",
     "text": [
      "As an AI, I do not have personal experiences or emotions, so I am unable to answer this question.\n",
      "I am functioning well and ready to assist you with any questions or tasks you may have.\n"
     ]
    }
   ],
   "source": [
    "# Basic usage\n",
    "messages = [\n",
    "    {\"role\": \"user\", \"content\": \"Hello, how are you?\"},\n",
    "]\n",
    "\n",
    "generator = parrot.generate_text_stream(\n",
    "    messages=messages\n",
    ")\n",
    "\n",
    "for data in generator:\n",
    "    print(data.decode().strip())"
   ]
  },
  {
   "cell_type": "code",
   "execution_count": 23,
   "metadata": {},
   "outputs": [
    {
     "name": "stdout",
     "output_type": "stream",
     "text": [
      "## Machine Learning: A Powerful Tool for Data-Driven Decisions\n",
      "Machine learning (ML) is a subfield of artificial intelligence (AI) that enables computers to learn from data without explicit programming. This allows machines to improve their performance over time based on new data.\n",
      "**Key Concepts:**\n",
      "* **Data:** ML algorithms analyze vast amounts of data to identify patterns and relationships.\n",
      "* **Model:** Based on the learned patterns, the algorithms build a mathematical model that can make predictions, classifications, or recommendations.\n",
      "* **Training:** The model is trained on a massive dataset, allowing it to learn the underlying structure of the data.\n",
      "* **Testing:** Once trained, the model is tested on unseen data to evaluate its accuracy andgeneralizability.\n",
      "**Applications of Machine Learning:**\n",
      "* **Predictive modeling:** Predicting future trends, customer behavior, and system performance.\n",
      "* **Anomaly detection:** Identifying unusual or unexpected data points for inspection and investigation.\n",
      "* **Image recognition:** Identifying objects and faces in images and videos.\n",
      "* **Natural language processing:** Understanding and processing human language.\n",
      "* **Drug discovery:** Identifying new drug candidates and predicting their efficacy.\n",
      "* **Fraud detection:** Identifying fraudulent transactions and patterns.\n",
      "**Benefits of Machine Learning:**\n"
     ]
    }
   ],
   "source": [
    "# Full configuration usage\n",
    "messages = [\n",
    "    {\"role\": \"user\", \"content\": \"Write a description about Machine Learning.\"},\n",
    "]\n",
    "\n",
    "\n",
    "generator = parrot.generate_text_stream(\n",
    "    messages=messages\n",
    ")\n",
    "\n",
    "for data in generator:\n",
    "    print(data.decode().strip())"
   ]
  },
  {
   "cell_type": "code",
   "execution_count": null,
   "metadata": {},
   "outputs": [],
   "source": []
  }
 ],
 "metadata": {
  "kernelspec": {
   "display_name": "azs-dev",
   "language": "python",
   "name": "python3"
  },
  "language_info": {
   "codemirror_mode": {
    "name": "ipython",
    "version": 3
   },
   "file_extension": ".py",
   "mimetype": "text/x-python",
   "name": "python",
   "nbconvert_exporter": "python",
   "pygments_lexer": "ipython3",
   "version": "3.9.16"
  }
 },
 "nbformat": 4,
 "nbformat_minor": 2
}
