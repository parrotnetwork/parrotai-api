{
 "cells": [
  {
   "cell_type": "code",
   "execution_count": 1,
   "metadata": {},
   "outputs": [
    {
     "data": {
      "text/plain": [
       "\"\\nChatbot Implementation with Parrot AI\\n\\nDescription:\\nThis script enables the development of a sophisticated chatbot powered by Parrot AI's advanced natural language processing \\nand understanding technologies. Designed to simulate conversational experiences with users, this chatbot can be deployed \\nacross various platforms and applications, offering personalized interactions and responses. It's capable of handling a \\nwide range of tasks from answering FAQs to providing user-specific recommendations, making it an invaluable tool for \\ncustomer support, e-commerce, and interactive entertainment. The implementation includes customizable dialogue flows \\nand response mechanisms, allowing for a tailored conversational agent that meets specific user engagement goals.\\n\\nAuthor: [Your Name]\\nContact Information:\\n- Email: [Your Email]\\n- LinkedIn: [Your LinkedIn Profile]\\n- GitHub: [Your GitHub Profile]\\n\\nI welcome any questions, feedback, or opportunities for collaboration. Please feel free to reach out through the provided \\ncontact details.\\n\""
      ]
     },
     "execution_count": 1,
     "metadata": {},
     "output_type": "execute_result"
    }
   ],
   "source": [
    "\"\"\"\n",
    "Chatbot Implementation with Parrot AI\n",
    "\n",
    "Description:\n",
    "This script enables the development of a sophisticated chatbot powered by Parrot AI's advanced natural language processing \n",
    "and understanding technologies. Designed to simulate conversational experiences with users, this chatbot can be deployed \n",
    "across various platforms and applications, offering personalized interactions and responses. It's capable of handling a \n",
    "wide range of tasks from answering FAQs to providing user-specific recommendations, making it an invaluable tool for \n",
    "customer support, e-commerce, and interactive entertainment. The implementation includes customizable dialogue flows \n",
    "and response mechanisms, allowing for a tailored conversational agent that meets specific user engagement goals.\n",
    "\n",
    "Author: [Your Name]\n",
    "Contact Information:\n",
    "- Email: [Your Email]\n",
    "- LinkedIn: [Your LinkedIn Profile]\n",
    "- GitHub: [Your GitHub Profile]\n",
    "\n",
    "I welcome any questions, feedback, or opportunities for collaboration. Please feel free to reach out through the provided \n",
    "contact details.\n",
    "\"\"\"\n"
   ]
  },
  {
   "cell_type": "markdown",
   "metadata": {},
   "source": [
    "# Setup"
   ]
  },
  {
   "cell_type": "code",
   "execution_count": null,
   "metadata": {},
   "outputs": [],
   "source": [
    "# Install the Parrot AI package\n",
    "!pip install parrotai -U"
   ]
  },
  {
   "cell_type": "code",
   "execution_count": 1,
   "metadata": {},
   "outputs": [],
   "source": [
    "from parrotai import ParrotAPI\n",
    "\n",
    "# Create a new instance of the ParrotAPI\n",
    "parrot = ParrotAPI()"
   ]
  },
  {
   "cell_type": "markdown",
   "metadata": {},
   "source": [
    "# Login"
   ]
  },
  {
   "cell_type": "code",
   "execution_count": 2,
   "metadata": {},
   "outputs": [],
   "source": [
    "# please visit https://joinparrot.ai to register your account\n",
    "username = '<your-username>'\n",
    "password = '<your-password>'"
   ]
  },
  {
   "cell_type": "code",
   "execution_count": 3,
   "metadata": {},
   "outputs": [],
   "source": [
    "# login to the API. The credentials are stored in the object. You to login first before you can access the other endpoints\n",
    "login_resp = parrot.login(username=username, password=password)"
   ]
  },
  {
   "cell_type": "code",
   "execution_count": 4,
   "metadata": {},
   "outputs": [
    {
     "data": {
      "text/plain": [
       "{'data': [{'model': 'gemma-7b',\n",
       "   'metadata': {'source': 'https://huggingface.co/google/gemma-7b'}}],\n",
       " 'errors': [],\n",
       " 'error_description': '',\n",
       " 'start_time': '2024-03-12 08:29:20.381477',\n",
       " 'end_time': '2024-03-12 08:29:20.389238',\n",
       " 'host_of_client_call_request': '103.186.100.36',\n",
       " 'total_time_by_second': 0.007773,\n",
       " 'status': 'success'}"
      ]
     },
     "execution_count": 4,
     "metadata": {},
     "output_type": "execute_result"
    }
   ],
   "source": [
    "# List models\n",
    "resp = parrot.get_models('text_completion')\n",
    "resp"
   ]
  },
  {
   "cell_type": "markdown",
   "metadata": {},
   "source": [
    "# Parrot AI: Chat Streaming"
   ]
  },
  {
   "cell_type": "markdown",
   "metadata": {},
   "source": [
    "## Usage"
   ]
  },
  {
   "cell_type": "code",
   "execution_count": 5,
   "metadata": {},
   "outputs": [
    {
     "name": "stdout",
     "output_type": "stream",
     "text": [
      "As an AI, I do not have personal experiences or feelings, so I am unable to respond with a response that would imply having sentience or consciousness.\n",
      "I am here to assist you with any questions or tasks you may have. How can I help you today?\n"
     ]
    }
   ],
   "source": [
    "# Basic usage\n",
    "messages = [\n",
    "    {\"role\": \"user\", \"content\": \"Hello, how are you?\"},\n",
    "]\n",
    "\n",
    "# Initialize the text generation process with the 'parrot' model.\n",
    "generator = parrot.generate_text_stream(\n",
    "    messages=messages\n",
    ")\n",
    "\n",
    "# Iterate over the generator object to fetch generated text.\n",
    "for data in generator:\n",
    "    print(data.decode().strip())"
   ]
  },
  {
   "cell_type": "code",
   "execution_count": 7,
   "metadata": {},
   "outputs": [
    {
     "name": "stdout",
     "output_type": "stream",
     "text": [
      "**Machine Learning (ML)** is a subfield of artificial intelligence (AI) that allows computers to learn from data without explicit programming. It involves developing algorithms and models that can identify patterns and relationships in data, enabling them to make accurate predictions or decisions.\n",
      "**Key Concepts:**\n",
      "* **Data Collection and Preparation:** Gathering and cleaning large datasets for training the ML model.\n",
      "* **Data Exploration and Analysis:** Understanding the data, identifying patterns, and identifying features that influence the target variable.\n",
      "* **Model Selection and Training:** Choosing the most suitable model for the problem and training it on the prepared data.\n",
      "* **Model Evaluation and Optimization:** Assessing the model's performance on unseen data and optimizing its parameters to improve its accuracy.\n",
      "* **Model Deployment and Monitoring:** Putting the trained model into production and monitoring its performance over time.\n",
      "**Types of Machine Learning:**\n",
      "* **Supervised Learning:** The model is trained on labeled data, where each data point is associated with a known outcome.\n",
      "* **Unsupervised Learning:** The model discovers patterns and relationships in unlabeled data.\n",
      "* **Reinforcement Learning:** The model learns through trial and error by interacting with an environment and receiving rewards or penalties.\n",
      "**Applications of Machine Learning:**\n",
      "* **Predictive Analytics:** Forecasting future trends, customer behavior, and system performance.\n",
      "* **Image Recognition:** Identifying objects and faces in images and videos.\n",
      "* **Natural Language Processing:** Understanding and generating human language.\n",
      "* **Fraud Detection:** Identifying fraudulent transactions and patterns.\n",
      "* **Medical Diagnosis:** Diagnosing diseases and conditions based on medical records.\n",
      "**Benefits of Machine Learning:**\n",
      "* **Data-Driven Decision-Making:** ML can provide insights from vast amounts of data, enabling better decision-making.\n",
      "* **Increased Efficiency and Productivity:** Automating tasks and processes, increasing efficiency.\n",
      "* **Personalized Experiences:** Tailoring products and services to individual preferences.\n",
      "* **Enhanced Customer Experience:** Providing personalized recommendations and support.\n"
     ]
    }
   ],
   "source": [
    "# Define a list of messages, each represented as a dictionary.\n",
    "messages = [\n",
    "    {\"role\": \"user\", \"content\": \"Write a description about Machine Learning.\"},\n",
    "]\n",
    "\n",
    "# Initialize the text generation process with the 'parrot' model.\n",
    "generator = parrot.generate_text_stream(\n",
    "    messages=messages,\n",
    "    model='gemma-7b',\n",
    "    top_k=50,\n",
    "    top_p=0.9,\n",
    "    temperature=0.7,\n",
    "    max_tokens=1024\n",
    ")\n",
    "\n",
    "# Iterate over the generator object to fetch generated text.\n",
    "for data in generator:\n",
    "    print(data.decode().strip())"
   ]
  },
  {
   "cell_type": "code",
   "execution_count": null,
   "metadata": {},
   "outputs": [],
   "source": []
  }
 ],
 "metadata": {
  "kernelspec": {
   "display_name": "azs-dev",
   "language": "python",
   "name": "python3"
  },
  "language_info": {
   "codemirror_mode": {
    "name": "ipython",
    "version": 3
   },
   "file_extension": ".py",
   "mimetype": "text/x-python",
   "name": "python",
   "nbconvert_exporter": "python",
   "pygments_lexer": "ipython3",
   "version": "3.9.16"
  }
 },
 "nbformat": 4,
 "nbformat_minor": 2
}
