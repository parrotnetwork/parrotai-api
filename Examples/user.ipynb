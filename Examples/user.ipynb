{
 "cells": [
  {
   "cell_type": "code",
   "execution_count": null,
   "metadata": {},
   "outputs": [],
   "source": [
    "api_key = \"YOUR_API_KEY\"  # Replace YOUR_API_KEY with your actual API key\n",
    "parrot_api = ParrotAPI(api_key)\n",
    "\n",
    "\n"
   ]
  },
  {
   "cell_type": "markdown",
   "metadata": {},
   "source": [
    "# Refreshing an API Token\n"
   ]
  },
  {
   "cell_type": "code",
   "execution_count": null,
   "metadata": {},
   "outputs": [],
   "source": [
    "refresh_token = \"YOUR_REFRESH_TOKEN\"  # Replace with your actual refresh token\n",
    "new_token_info = parrot_api.refresh_token(refresh_token)\n",
    "print(\"New Token Info:\", new_token_info)\n"
   ]
  },
  {
   "cell_type": "markdown",
   "metadata": {},
   "source": [
    "# Retrieving User Profile Information\n",
    "\n",
    "\n"
   ]
  },
  {
   "cell_type": "code",
   "execution_count": null,
   "metadata": {},
   "outputs": [],
   "source": [
    "# To retrieve the current user's profile information:\n",
    "user_profile = parrot_api.get_user_profile()\n",
    "print(\"User Profile:\", user_profile)\n"
   ]
  },
  {
   "cell_type": "markdown",
   "metadata": {},
   "source": [
    "# Creating an SDXL-turbo Image Task\n"
   ]
  },
  {
   "cell_type": "code",
   "execution_count": null,
   "metadata": {},
   "outputs": [],
   "source": [
    "# To create an SDXL-turbo image task with a specific prompt and configuration:\n",
    "\n",
    "prompt = \"A stunning sunset over the mountains\"\n",
    "config = {\n",
    "    \"rotation\": \"landscape\",\n",
    "    \"steps\": 50,\n",
    "    \"negative_prompt\": \"no people\"\n",
    "}\n",
    "sdxl_task_response = parrot_api.create_sdxl_task(prompt, **config)\n",
    "print(\"SDXL Task Response:\", sdxl_task_response)\n"
   ]
  },
  {
   "cell_type": "markdown",
   "metadata": {},
   "source": [
    "# Creating a LORA Trainer Task\n"
   ]
  },
  {
   "cell_type": "code",
   "execution_count": null,
   "metadata": {},
   "outputs": [],
   "source": [
    "# To create a LORA trainer task using a text prompt and a list of image URLs:\n",
    "\n",
    "\n",
    "task_id = \"570ecc58fa6c44baa1d08fd08a249d57\"  # Replace with the actual task ID\n",
    "rating = 4.8  # Rating on a scale, for example, 1 to 5\n",
    "feedback_text = \"The generated images were of high quality and closely matched the prompt.\"\n",
    "feedback_response = parrot_api.submit_feedback(task_id, rating, feedback_text)\n",
    "print(\"Feedback Response:\", feedback_response)\n"
   ]
  },
  {
   "cell_type": "markdown",
   "metadata": {},
   "source": [
    "# Submitting Feedback\n"
   ]
  },
  {
   "cell_type": "code",
   "execution_count": null,
   "metadata": {},
   "outputs": [],
   "source": [
    "# To create a LORA trainer task using a text prompt and a list of image URLs:\n",
    "\n",
    "lora_prompt = \"A series of nature-focused images for fine-tuning.\"\n",
    "image_urls = [\n",
    "    \"http://example.com/nature1.jpg\",\n",
    "    \"http://example.com/nature2.jpg\"\n",
    "]\n",
    "lora_task_response = parrot_api.create_lora_trainer_task(lora_prompt, image_urls)\n",
    "print(\"LORA Task Response:\", lora_task_response)\n"
   ]
  },
  {
   "cell_type": "markdown",
   "metadata": {},
   "source": []
  },
  {
   "cell_type": "code",
   "execution_count": null,
   "metadata": {},
   "outputs": [],
   "source": []
  },
  {
   "cell_type": "markdown",
   "metadata": {},
   "source": []
  },
  {
   "cell_type": "code",
   "execution_count": null,
   "metadata": {},
   "outputs": [],
   "source": []
  }
 ],
 "metadata": {
  "language_info": {
   "name": "python"
  }
 },
 "nbformat": 4,
 "nbformat_minor": 2
}
